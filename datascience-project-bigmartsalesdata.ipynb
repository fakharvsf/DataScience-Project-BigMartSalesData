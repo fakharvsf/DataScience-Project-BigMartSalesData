{
 "cells": [
  {
   "cell_type": "markdown",
   "id": "690d0b1d",
   "metadata": {
    "id": "LNFrol_nbSTd",
    "papermill": {
     "duration": 0.028644,
     "end_time": "2023-01-06T16:35:56.989029",
     "exception": false,
     "start_time": "2023-01-06T16:35:56.960385",
     "status": "completed"
    },
    "tags": []
   },
   "source": [
    "# **CONTENTS**\n",
    "\n",
    "\n",
    "1.   Import Libraries\n",
    "2.   Data Inspection\n",
    "3.   Data Cleaning\n",
    "4.   Exploratory Data Analysis\n",
    "\n"
   ]
  },
  {
   "cell_type": "markdown",
   "id": "acefd6c4",
   "metadata": {
    "id": "XjckmfZtbsz0",
    "papermill": {
     "duration": 0.023448,
     "end_time": "2023-01-06T16:35:57.037224",
     "exception": false,
     "start_time": "2023-01-06T16:35:57.013776",
     "status": "completed"
    },
    "tags": []
   },
   "source": [
    "# **PROBLEM STATEMENT**\n",
    "The data scientists at BigMart have collected sales data for 1559 products across 10 stores in different cities. Also, certain attributes of each product and store have been defined. The aim is to build a predictive model and find out the sales of each product at a particular store. Using this model, BigMart will try to understand the properties of products and stores which play a key role in increasing sales."
   ]
  },
  {
   "cell_type": "markdown",
   "id": "baa6c126",
   "metadata": {
    "id": "BSI-xUbOb7UU",
    "papermill": {
     "duration": 0.023502,
     "end_time": "2023-01-06T16:35:57.084341",
     "exception": false,
     "start_time": "2023-01-06T16:35:57.060839",
     "status": "completed"
    },
    "tags": []
   },
   "source": [
    "# **DATA**\n",
    "\n",
    "*   Item_Identifier : Unique product ID\n",
    "*   Item_Weight : Weight of product\n",
    "*   Item_Fat_Content : Whether the product is low fat or not\n",
    "*   Item_Visibility : The % of total display area of all products in a store allocated to the particular product\n",
    "*   Item_Type : The category to which the product belongs\n",
    "*   Item_MRP : Maximum Retail Price (list price) of the product\n",
    "*   Outlet_Identifier : Unique store ID\n",
    "*   Outlet_Establishment_Year : The year in which store was established\n",
    "*   Outlet_Size : The size of the store in terms of ground area covered\n",
    "*   Outlet_Location_Type : The type of city in which the store is located\n",
    "*   \n",
    "Outlet_Type : Whether the outlet is just a grocery store or some sort of supermarket\n",
    "*   Item_Outlet_Sales : Sales of the product in the particular store.\n",
    "\n",
    "\n",
    "\n",
    "\n",
    "\n",
    "\n",
    "\n",
    "\n",
    "\n",
    "\n",
    "\n",
    "\n",
    "\n",
    "\n",
    "\n",
    "\n",
    "\n",
    "\n",
    "\n",
    "\n",
    "\n",
    "\n",
    "\n",
    "\n"
   ]
  },
  {
   "cell_type": "code",
   "execution_count": 1,
   "id": "831b4ca6",
   "metadata": {
    "execution": {
     "iopub.execute_input": "2023-01-06T16:35:57.134206Z",
     "iopub.status.busy": "2023-01-06T16:35:57.133583Z",
     "iopub.status.idle": "2023-01-06T16:35:58.243971Z",
     "shell.execute_reply": "2023-01-06T16:35:58.242792Z"
    },
    "id": "QPtun9ITblzV",
    "papermill": {
     "duration": 1.139024,
     "end_time": "2023-01-06T16:35:58.246830",
     "exception": false,
     "start_time": "2023-01-06T16:35:57.107806",
     "status": "completed"
    },
    "tags": []
   },
   "outputs": [],
   "source": [
    "import matplotlib.pyplot as plt\n",
    "import pandas as pd\n",
    "import numpy as np\n",
    "import seaborn as sns\n",
    "\n",
    "sns.set()\n",
    "%matplotlib inline"
   ]
  },
  {
   "cell_type": "code",
   "execution_count": 2,
   "id": "a274fcd6",
   "metadata": {
    "execution": {
     "iopub.execute_input": "2023-01-06T16:35:58.296398Z",
     "iopub.status.busy": "2023-01-06T16:35:58.296018Z",
     "iopub.status.idle": "2023-01-06T16:35:58.759132Z",
     "shell.execute_reply": "2023-01-06T16:35:58.758059Z"
    },
    "id": "TLxb5ZZrcyAc",
    "papermill": {
     "duration": 0.491152,
     "end_time": "2023-01-06T16:35:58.762053",
     "exception": false,
     "start_time": "2023-01-06T16:35:58.270901",
     "status": "completed"
    },
    "tags": []
   },
   "outputs": [],
   "source": [
    "from sklearn.preprocessing import LabelEncoder\n",
    "from sklearn.model_selection import train_test_split\n",
    "from sklearn.model_selection  import cross_val_score\n",
    "from sklearn import metrics\n",
    "from sklearn.preprocessing import StandardScaler\n",
    "from sklearn.linear_model import LinearRegression\n",
    "from sklearn.ensemble import RandomForestRegressor"
   ]
  },
  {
   "cell_type": "code",
   "execution_count": 3,
   "id": "3b7574cd",
   "metadata": {
    "execution": {
     "iopub.execute_input": "2023-01-06T16:35:58.812241Z",
     "iopub.status.busy": "2023-01-06T16:35:58.811643Z",
     "iopub.status.idle": "2023-01-06T16:35:58.910305Z",
     "shell.execute_reply": "2023-01-06T16:35:58.909450Z"
    },
    "id": "A-iheGj5dBNY",
    "papermill": {
     "duration": 0.126657,
     "end_time": "2023-01-06T16:35:58.912777",
     "exception": false,
     "start_time": "2023-01-06T16:35:58.786120",
     "status": "completed"
    },
    "tags": []
   },
   "outputs": [],
   "source": [
    "\n",
    "train = pd.read_csv(\"/kaggle/input/bigmart-sales-data/Train.csv\")\n",
    "test = pd.read_csv(\"/kaggle/input/bigmart-sales-data/Test.csv\")"
   ]
  },
  {
   "cell_type": "markdown",
   "id": "d0baf9b0",
   "metadata": {
    "id": "WuekeY2xlHZA",
    "papermill": {
     "duration": 0.02363,
     "end_time": "2023-01-06T16:35:58.960328",
     "exception": false,
     "start_time": "2023-01-06T16:35:58.936698",
     "status": "completed"
    },
    "tags": []
   },
   "source": [
    "# **Step 2. Data Inspection**"
   ]
  },
  {
   "cell_type": "code",
   "execution_count": 4,
   "id": "4fe34ee0",
   "metadata": {
    "execution": {
     "iopub.execute_input": "2023-01-06T16:35:59.009605Z",
     "iopub.status.busy": "2023-01-06T16:35:59.008684Z",
     "iopub.status.idle": "2023-01-06T16:35:59.034648Z",
     "shell.execute_reply": "2023-01-06T16:35:59.033504Z"
    },
    "id": "c1qaHXAXiVqi",
    "outputId": "c8626b80-b764-4632-e30f-a69599e3f358",
    "papermill": {
     "duration": 0.053048,
     "end_time": "2023-01-06T16:35:59.037029",
     "exception": false,
     "start_time": "2023-01-06T16:35:58.983981",
     "status": "completed"
    },
    "tags": []
   },
   "outputs": [
    {
     "data": {
      "text/html": [
       "<div>\n",
       "<style scoped>\n",
       "    .dataframe tbody tr th:only-of-type {\n",
       "        vertical-align: middle;\n",
       "    }\n",
       "\n",
       "    .dataframe tbody tr th {\n",
       "        vertical-align: top;\n",
       "    }\n",
       "\n",
       "    .dataframe thead th {\n",
       "        text-align: right;\n",
       "    }\n",
       "</style>\n",
       "<table border=\"1\" class=\"dataframe\">\n",
       "  <thead>\n",
       "    <tr style=\"text-align: right;\">\n",
       "      <th></th>\n",
       "      <th>Item_Identifier</th>\n",
       "      <th>Item_Weight</th>\n",
       "      <th>Item_Fat_Content</th>\n",
       "      <th>Item_Visibility</th>\n",
       "      <th>Item_Type</th>\n",
       "      <th>Item_MRP</th>\n",
       "      <th>Outlet_Identifier</th>\n",
       "      <th>Outlet_Establishment_Year</th>\n",
       "      <th>Outlet_Size</th>\n",
       "      <th>Outlet_Location_Type</th>\n",
       "      <th>Outlet_Type</th>\n",
       "      <th>Item_Outlet_Sales</th>\n",
       "    </tr>\n",
       "  </thead>\n",
       "  <tbody>\n",
       "    <tr>\n",
       "      <th>0</th>\n",
       "      <td>FDA15</td>\n",
       "      <td>9.30</td>\n",
       "      <td>Low Fat</td>\n",
       "      <td>0.016047</td>\n",
       "      <td>Dairy</td>\n",
       "      <td>249.8092</td>\n",
       "      <td>OUT049</td>\n",
       "      <td>1999</td>\n",
       "      <td>Medium</td>\n",
       "      <td>Tier 1</td>\n",
       "      <td>Supermarket Type1</td>\n",
       "      <td>3735.1380</td>\n",
       "    </tr>\n",
       "    <tr>\n",
       "      <th>1</th>\n",
       "      <td>DRC01</td>\n",
       "      <td>5.92</td>\n",
       "      <td>Regular</td>\n",
       "      <td>0.019278</td>\n",
       "      <td>Soft Drinks</td>\n",
       "      <td>48.2692</td>\n",
       "      <td>OUT018</td>\n",
       "      <td>2009</td>\n",
       "      <td>Medium</td>\n",
       "      <td>Tier 3</td>\n",
       "      <td>Supermarket Type2</td>\n",
       "      <td>443.4228</td>\n",
       "    </tr>\n",
       "    <tr>\n",
       "      <th>2</th>\n",
       "      <td>FDN15</td>\n",
       "      <td>17.50</td>\n",
       "      <td>Low Fat</td>\n",
       "      <td>0.016760</td>\n",
       "      <td>Meat</td>\n",
       "      <td>141.6180</td>\n",
       "      <td>OUT049</td>\n",
       "      <td>1999</td>\n",
       "      <td>Medium</td>\n",
       "      <td>Tier 1</td>\n",
       "      <td>Supermarket Type1</td>\n",
       "      <td>2097.2700</td>\n",
       "    </tr>\n",
       "    <tr>\n",
       "      <th>3</th>\n",
       "      <td>FDX07</td>\n",
       "      <td>19.20</td>\n",
       "      <td>Regular</td>\n",
       "      <td>0.000000</td>\n",
       "      <td>Fruits and Vegetables</td>\n",
       "      <td>182.0950</td>\n",
       "      <td>OUT010</td>\n",
       "      <td>1998</td>\n",
       "      <td>NaN</td>\n",
       "      <td>Tier 3</td>\n",
       "      <td>Grocery Store</td>\n",
       "      <td>732.3800</td>\n",
       "    </tr>\n",
       "    <tr>\n",
       "      <th>4</th>\n",
       "      <td>NCD19</td>\n",
       "      <td>8.93</td>\n",
       "      <td>Low Fat</td>\n",
       "      <td>0.000000</td>\n",
       "      <td>Household</td>\n",
       "      <td>53.8614</td>\n",
       "      <td>OUT013</td>\n",
       "      <td>1987</td>\n",
       "      <td>High</td>\n",
       "      <td>Tier 3</td>\n",
       "      <td>Supermarket Type1</td>\n",
       "      <td>994.7052</td>\n",
       "    </tr>\n",
       "  </tbody>\n",
       "</table>\n",
       "</div>"
      ],
      "text/plain": [
       "  Item_Identifier  Item_Weight Item_Fat_Content  Item_Visibility  \\\n",
       "0           FDA15         9.30          Low Fat         0.016047   \n",
       "1           DRC01         5.92          Regular         0.019278   \n",
       "2           FDN15        17.50          Low Fat         0.016760   \n",
       "3           FDX07        19.20          Regular         0.000000   \n",
       "4           NCD19         8.93          Low Fat         0.000000   \n",
       "\n",
       "               Item_Type  Item_MRP Outlet_Identifier  \\\n",
       "0                  Dairy  249.8092            OUT049   \n",
       "1            Soft Drinks   48.2692            OUT018   \n",
       "2                   Meat  141.6180            OUT049   \n",
       "3  Fruits and Vegetables  182.0950            OUT010   \n",
       "4              Household   53.8614            OUT013   \n",
       "\n",
       "   Outlet_Establishment_Year Outlet_Size Outlet_Location_Type  \\\n",
       "0                       1999      Medium               Tier 1   \n",
       "1                       2009      Medium               Tier 3   \n",
       "2                       1999      Medium               Tier 1   \n",
       "3                       1998         NaN               Tier 3   \n",
       "4                       1987        High               Tier 3   \n",
       "\n",
       "         Outlet_Type  Item_Outlet_Sales  \n",
       "0  Supermarket Type1          3735.1380  \n",
       "1  Supermarket Type2           443.4228  \n",
       "2  Supermarket Type1          2097.2700  \n",
       "3      Grocery Store           732.3800  \n",
       "4  Supermarket Type1           994.7052  "
      ]
     },
     "execution_count": 4,
     "metadata": {},
     "output_type": "execute_result"
    }
   ],
   "source": [
    "train.head()"
   ]
  },
  {
   "cell_type": "code",
   "execution_count": 5,
   "id": "0333e77b",
   "metadata": {
    "execution": {
     "iopub.execute_input": "2023-01-06T16:35:59.087655Z",
     "iopub.status.busy": "2023-01-06T16:35:59.087047Z",
     "iopub.status.idle": "2023-01-06T16:35:59.103223Z",
     "shell.execute_reply": "2023-01-06T16:35:59.102466Z"
    },
    "id": "zKY7HVw-lCEn",
    "outputId": "0a80df13-4464-4c03-8512-0571e2eb3032",
    "papermill": {
     "duration": 0.043775,
     "end_time": "2023-01-06T16:35:59.105341",
     "exception": false,
     "start_time": "2023-01-06T16:35:59.061566",
     "status": "completed"
    },
    "tags": []
   },
   "outputs": [
    {
     "data": {
      "text/html": [
       "<div>\n",
       "<style scoped>\n",
       "    .dataframe tbody tr th:only-of-type {\n",
       "        vertical-align: middle;\n",
       "    }\n",
       "\n",
       "    .dataframe tbody tr th {\n",
       "        vertical-align: top;\n",
       "    }\n",
       "\n",
       "    .dataframe thead th {\n",
       "        text-align: right;\n",
       "    }\n",
       "</style>\n",
       "<table border=\"1\" class=\"dataframe\">\n",
       "  <thead>\n",
       "    <tr style=\"text-align: right;\">\n",
       "      <th></th>\n",
       "      <th>Item_Identifier</th>\n",
       "      <th>Item_Weight</th>\n",
       "      <th>Item_Fat_Content</th>\n",
       "      <th>Item_Visibility</th>\n",
       "      <th>Item_Type</th>\n",
       "      <th>Item_MRP</th>\n",
       "      <th>Outlet_Identifier</th>\n",
       "      <th>Outlet_Establishment_Year</th>\n",
       "      <th>Outlet_Size</th>\n",
       "      <th>Outlet_Location_Type</th>\n",
       "      <th>Outlet_Type</th>\n",
       "    </tr>\n",
       "  </thead>\n",
       "  <tbody>\n",
       "    <tr>\n",
       "      <th>0</th>\n",
       "      <td>FDW58</td>\n",
       "      <td>20.750</td>\n",
       "      <td>Low Fat</td>\n",
       "      <td>0.007565</td>\n",
       "      <td>Snack Foods</td>\n",
       "      <td>107.8622</td>\n",
       "      <td>OUT049</td>\n",
       "      <td>1999</td>\n",
       "      <td>Medium</td>\n",
       "      <td>Tier 1</td>\n",
       "      <td>Supermarket Type1</td>\n",
       "    </tr>\n",
       "    <tr>\n",
       "      <th>1</th>\n",
       "      <td>FDW14</td>\n",
       "      <td>8.300</td>\n",
       "      <td>reg</td>\n",
       "      <td>0.038428</td>\n",
       "      <td>Dairy</td>\n",
       "      <td>87.3198</td>\n",
       "      <td>OUT017</td>\n",
       "      <td>2007</td>\n",
       "      <td>NaN</td>\n",
       "      <td>Tier 2</td>\n",
       "      <td>Supermarket Type1</td>\n",
       "    </tr>\n",
       "    <tr>\n",
       "      <th>2</th>\n",
       "      <td>NCN55</td>\n",
       "      <td>14.600</td>\n",
       "      <td>Low Fat</td>\n",
       "      <td>0.099575</td>\n",
       "      <td>Others</td>\n",
       "      <td>241.7538</td>\n",
       "      <td>OUT010</td>\n",
       "      <td>1998</td>\n",
       "      <td>NaN</td>\n",
       "      <td>Tier 3</td>\n",
       "      <td>Grocery Store</td>\n",
       "    </tr>\n",
       "    <tr>\n",
       "      <th>3</th>\n",
       "      <td>FDQ58</td>\n",
       "      <td>7.315</td>\n",
       "      <td>Low Fat</td>\n",
       "      <td>0.015388</td>\n",
       "      <td>Snack Foods</td>\n",
       "      <td>155.0340</td>\n",
       "      <td>OUT017</td>\n",
       "      <td>2007</td>\n",
       "      <td>NaN</td>\n",
       "      <td>Tier 2</td>\n",
       "      <td>Supermarket Type1</td>\n",
       "    </tr>\n",
       "    <tr>\n",
       "      <th>4</th>\n",
       "      <td>FDY38</td>\n",
       "      <td>NaN</td>\n",
       "      <td>Regular</td>\n",
       "      <td>0.118599</td>\n",
       "      <td>Dairy</td>\n",
       "      <td>234.2300</td>\n",
       "      <td>OUT027</td>\n",
       "      <td>1985</td>\n",
       "      <td>Medium</td>\n",
       "      <td>Tier 3</td>\n",
       "      <td>Supermarket Type3</td>\n",
       "    </tr>\n",
       "  </tbody>\n",
       "</table>\n",
       "</div>"
      ],
      "text/plain": [
       "  Item_Identifier  Item_Weight Item_Fat_Content  Item_Visibility    Item_Type  \\\n",
       "0           FDW58       20.750          Low Fat         0.007565  Snack Foods   \n",
       "1           FDW14        8.300              reg         0.038428        Dairy   \n",
       "2           NCN55       14.600          Low Fat         0.099575       Others   \n",
       "3           FDQ58        7.315          Low Fat         0.015388  Snack Foods   \n",
       "4           FDY38          NaN          Regular         0.118599        Dairy   \n",
       "\n",
       "   Item_MRP Outlet_Identifier  Outlet_Establishment_Year Outlet_Size  \\\n",
       "0  107.8622            OUT049                       1999      Medium   \n",
       "1   87.3198            OUT017                       2007         NaN   \n",
       "2  241.7538            OUT010                       1998         NaN   \n",
       "3  155.0340            OUT017                       2007         NaN   \n",
       "4  234.2300            OUT027                       1985      Medium   \n",
       "\n",
       "  Outlet_Location_Type        Outlet_Type  \n",
       "0               Tier 1  Supermarket Type1  \n",
       "1               Tier 2  Supermarket Type1  \n",
       "2               Tier 3      Grocery Store  \n",
       "3               Tier 2  Supermarket Type1  \n",
       "4               Tier 3  Supermarket Type3  "
      ]
     },
     "execution_count": 5,
     "metadata": {},
     "output_type": "execute_result"
    }
   ],
   "source": [
    "test.head()"
   ]
  },
  {
   "cell_type": "code",
   "execution_count": 6,
   "id": "8f4be676",
   "metadata": {
    "execution": {
     "iopub.execute_input": "2023-01-06T16:35:59.155801Z",
     "iopub.status.busy": "2023-01-06T16:35:59.154642Z",
     "iopub.status.idle": "2023-01-06T16:35:59.161741Z",
     "shell.execute_reply": "2023-01-06T16:35:59.160841Z"
    },
    "id": "Fua11GDidHQI",
    "outputId": "765b7b7c-ca07-427e-9bfc-daf501e93ab7",
    "papermill": {
     "duration": 0.03453,
     "end_time": "2023-01-06T16:35:59.163928",
     "exception": false,
     "start_time": "2023-01-06T16:35:59.129398",
     "status": "completed"
    },
    "tags": []
   },
   "outputs": [
    {
     "data": {
      "text/plain": [
       "((8523, 12), (5681, 11))"
      ]
     },
     "execution_count": 6,
     "metadata": {},
     "output_type": "execute_result"
    }
   ],
   "source": [
    "train.shape,test.shape"
   ]
  },
  {
   "cell_type": "markdown",
   "id": "65772cea",
   "metadata": {
    "id": "QdYmoZnth6FA",
    "papermill": {
     "duration": 0.024061,
     "end_time": "2023-01-06T16:35:59.212273",
     "exception": false,
     "start_time": "2023-01-06T16:35:59.188212",
     "status": "completed"
    },
    "tags": []
   },
   "source": [
    "As said above we have 8523 rows and 12 columns in Train set whereas Test set has 5681 rows and 11 columns."
   ]
  },
  {
   "cell_type": "code",
   "execution_count": 7,
   "id": "3741092b",
   "metadata": {
    "execution": {
     "iopub.execute_input": "2023-01-06T16:35:59.263568Z",
     "iopub.status.busy": "2023-01-06T16:35:59.262363Z",
     "iopub.status.idle": "2023-01-06T16:35:59.281038Z",
     "shell.execute_reply": "2023-01-06T16:35:59.280116Z"
    },
    "id": "kvjXV1blh7-b",
    "outputId": "5da12f5b-2e01-47ec-8d9f-ba214975b681",
    "papermill": {
     "duration": 0.046648,
     "end_time": "2023-01-06T16:35:59.283236",
     "exception": false,
     "start_time": "2023-01-06T16:35:59.236588",
     "status": "completed"
    },
    "tags": []
   },
   "outputs": [
    {
     "data": {
      "text/plain": [
       "Item_Identifier                 0\n",
       "Item_Weight                   976\n",
       "Item_Fat_Content                0\n",
       "Item_Visibility                 0\n",
       "Item_Type                       0\n",
       "Item_MRP                        0\n",
       "Outlet_Identifier               0\n",
       "Outlet_Establishment_Year       0\n",
       "Outlet_Size                  1606\n",
       "Outlet_Location_Type            0\n",
       "Outlet_Type                     0\n",
       "dtype: int64"
      ]
     },
     "execution_count": 7,
     "metadata": {},
     "output_type": "execute_result"
    }
   ],
   "source": [
    "test.apply(lambda x: sum(x.isnull()))"
   ]
  },
  {
   "cell_type": "code",
   "execution_count": 8,
   "id": "20caa4b6",
   "metadata": {
    "execution": {
     "iopub.execute_input": "2023-01-06T16:35:59.335663Z",
     "iopub.status.busy": "2023-01-06T16:35:59.335240Z",
     "iopub.status.idle": "2023-01-06T16:35:59.349225Z",
     "shell.execute_reply": "2023-01-06T16:35:59.348083Z"
    },
    "id": "MdrAKnZiiCmn",
    "outputId": "ce508cbc-07dc-43a3-ecb5-a1734cad3cc4",
    "papermill": {
     "duration": 0.043273,
     "end_time": "2023-01-06T16:35:59.351770",
     "exception": false,
     "start_time": "2023-01-06T16:35:59.308497",
     "status": "completed"
    },
    "tags": []
   },
   "outputs": [
    {
     "data": {
      "text/plain": [
       "Item_Identifier               0.000000\n",
       "Item_Weight                  17.180074\n",
       "Item_Fat_Content              0.000000\n",
       "Item_Visibility               0.000000\n",
       "Item_Type                     0.000000\n",
       "Item_MRP                      0.000000\n",
       "Outlet_Identifier             0.000000\n",
       "Outlet_Establishment_Year     0.000000\n",
       "Outlet_Size                  28.269671\n",
       "Outlet_Location_Type          0.000000\n",
       "Outlet_Type                   0.000000\n",
       "dtype: float64"
      ]
     },
     "execution_count": 8,
     "metadata": {},
     "output_type": "execute_result"
    }
   ],
   "source": [
    "test.isnull().sum()/test.shape[0] *100"
   ]
  },
  {
   "cell_type": "markdown",
   "id": "3d9f7c79",
   "metadata": {
    "id": "h_dPRTU8lw0e",
    "papermill": {
     "duration": 0.024736,
     "end_time": "2023-01-06T16:35:59.401584",
     "exception": false,
     "start_time": "2023-01-06T16:35:59.376848",
     "status": "completed"
    },
    "tags": []
   },
   "source": [
    "We have 17% and 28% of missing values in Item weight and Outlet_Size columns respectively.\n",
    "\n",
    "---\n",
    "\n"
   ]
  },
  {
   "cell_type": "code",
   "execution_count": 9,
   "id": "462f3457",
   "metadata": {
    "execution": {
     "iopub.execute_input": "2023-01-06T16:35:59.453682Z",
     "iopub.status.busy": "2023-01-06T16:35:59.452926Z",
     "iopub.status.idle": "2023-01-06T16:35:59.475070Z",
     "shell.execute_reply": "2023-01-06T16:35:59.473961Z"
    },
    "id": "oeC3baT7iI5Z",
    "outputId": "be2fcb93-1fae-471d-84a4-cfa6e8e7ad05",
    "papermill": {
     "duration": 0.050695,
     "end_time": "2023-01-06T16:35:59.477248",
     "exception": false,
     "start_time": "2023-01-06T16:35:59.426553",
     "status": "completed"
    },
    "tags": []
   },
   "outputs": [
    {
     "data": {
      "text/plain": [
       "Item_Identifier                 0\n",
       "Item_Weight                  1463\n",
       "Item_Fat_Content                0\n",
       "Item_Visibility                 0\n",
       "Item_Type                       0\n",
       "Item_MRP                        0\n",
       "Outlet_Identifier               0\n",
       "Outlet_Establishment_Year       0\n",
       "Outlet_Size                  2410\n",
       "Outlet_Location_Type            0\n",
       "Outlet_Type                     0\n",
       "Item_Outlet_Sales               0\n",
       "dtype: int64"
      ]
     },
     "execution_count": 9,
     "metadata": {},
     "output_type": "execute_result"
    }
   ],
   "source": [
    "train.apply(lambda x: sum(x.isnull()))"
   ]
  },
  {
   "cell_type": "code",
   "execution_count": 10,
   "id": "1476daed",
   "metadata": {
    "execution": {
     "iopub.execute_input": "2023-01-06T16:35:59.529345Z",
     "iopub.status.busy": "2023-01-06T16:35:59.528749Z",
     "iopub.status.idle": "2023-01-06T16:35:59.540259Z",
     "shell.execute_reply": "2023-01-06T16:35:59.539534Z"
    },
    "id": "BDgyWrCLiLk6",
    "outputId": "b94f10b2-8417-455e-e99c-c032e362b2b1",
    "papermill": {
     "duration": 0.040172,
     "end_time": "2023-01-06T16:35:59.542650",
     "exception": false,
     "start_time": "2023-01-06T16:35:59.502478",
     "status": "completed"
    },
    "tags": []
   },
   "outputs": [
    {
     "data": {
      "text/plain": [
       "Item_Identifier               0.000000\n",
       "Item_Weight                  17.165317\n",
       "Item_Fat_Content              0.000000\n",
       "Item_Visibility               0.000000\n",
       "Item_Type                     0.000000\n",
       "Item_MRP                      0.000000\n",
       "Outlet_Identifier             0.000000\n",
       "Outlet_Establishment_Year     0.000000\n",
       "Outlet_Size                  28.276428\n",
       "Outlet_Location_Type          0.000000\n",
       "Outlet_Type                   0.000000\n",
       "Item_Outlet_Sales             0.000000\n",
       "dtype: float64"
      ]
     },
     "execution_count": 10,
     "metadata": {},
     "output_type": "execute_result"
    }
   ],
   "source": [
    "train.isnull().sum()/train.shape[0] *100"
   ]
  },
  {
   "cell_type": "markdown",
   "id": "0549a1f1",
   "metadata": {
    "id": "3whksiOtl348",
    "papermill": {
     "duration": 0.024685,
     "end_time": "2023-01-06T16:35:59.592960",
     "exception": false,
     "start_time": "2023-01-06T16:35:59.568275",
     "status": "completed"
    },
    "tags": []
   },
   "source": [
    "*We have same missing values percentage of Item Size and Outlet Size columns as that of in Test set.*\n",
    "\n",
    "---\n"
   ]
  },
  {
   "cell_type": "code",
   "execution_count": 11,
   "id": "a08d6e0a",
   "metadata": {
    "execution": {
     "iopub.execute_input": "2023-01-06T16:35:59.645140Z",
     "iopub.status.busy": "2023-01-06T16:35:59.644572Z",
     "iopub.status.idle": "2023-01-06T16:35:59.670922Z",
     "shell.execute_reply": "2023-01-06T16:35:59.669484Z"
    },
    "id": "SApVkuHDiOqo",
    "outputId": "8c514ce6-e907-4993-ae77-d45b27cfb1bb",
    "papermill": {
     "duration": 0.055539,
     "end_time": "2023-01-06T16:35:59.673445",
     "exception": false,
     "start_time": "2023-01-06T16:35:59.617906",
     "status": "completed"
    },
    "tags": []
   },
   "outputs": [
    {
     "name": "stdout",
     "output_type": "stream",
     "text": [
      "<class 'pandas.core.frame.DataFrame'>\n",
      "RangeIndex: 8523 entries, 0 to 8522\n",
      "Data columns (total 12 columns):\n",
      " #   Column                     Non-Null Count  Dtype  \n",
      "---  ------                     --------------  -----  \n",
      " 0   Item_Identifier            8523 non-null   object \n",
      " 1   Item_Weight                7060 non-null   float64\n",
      " 2   Item_Fat_Content           8523 non-null   object \n",
      " 3   Item_Visibility            8523 non-null   float64\n",
      " 4   Item_Type                  8523 non-null   object \n",
      " 5   Item_MRP                   8523 non-null   float64\n",
      " 6   Outlet_Identifier          8523 non-null   object \n",
      " 7   Outlet_Establishment_Year  8523 non-null   int64  \n",
      " 8   Outlet_Size                6113 non-null   object \n",
      " 9   Outlet_Location_Type       8523 non-null   object \n",
      " 10  Outlet_Type                8523 non-null   object \n",
      " 11  Item_Outlet_Sales          8523 non-null   float64\n",
      "dtypes: float64(4), int64(1), object(7)\n",
      "memory usage: 799.2+ KB\n"
     ]
    }
   ],
   "source": [
    "train.info()"
   ]
  },
  {
   "cell_type": "markdown",
   "id": "cfe5274c",
   "metadata": {
    "id": "0AxDGprOmdJz",
    "papermill": {
     "duration": 0.024565,
     "end_time": "2023-01-06T16:35:59.723149",
     "exception": false,
     "start_time": "2023-01-06T16:35:59.698584",
     "status": "completed"
    },
    "tags": []
   },
   "source": [
    "*   Seperation of Different dataTypes\n",
    "\n",
    "---\n",
    "\n",
    "\n",
    "\n",
    "\n",
    "\n"
   ]
  },
  {
   "cell_type": "code",
   "execution_count": 12,
   "id": "bd68684c",
   "metadata": {
    "execution": {
     "iopub.execute_input": "2023-01-06T16:35:59.775248Z",
     "iopub.status.busy": "2023-01-06T16:35:59.774836Z",
     "iopub.status.idle": "2023-01-06T16:35:59.787636Z",
     "shell.execute_reply": "2023-01-06T16:35:59.786389Z"
    },
    "id": "CeNX4dWsmPOL",
    "outputId": "110ca17c-2d01-4426-ca9e-7d2834ec1347",
    "papermill": {
     "duration": 0.041772,
     "end_time": "2023-01-06T16:35:59.790219",
     "exception": false,
     "start_time": "2023-01-06T16:35:59.748447",
     "status": "completed"
    },
    "tags": []
   },
   "outputs": [
    {
     "name": "stdout",
     "output_type": "stream",
     "text": [
      "Categorical Features in Train Set: 7\n",
      "Numerical Features in Train Set: 5\n"
     ]
    },
    {
     "name": "stderr",
     "output_type": "stream",
     "text": [
      "/opt/conda/lib/python3.7/site-packages/ipykernel_launcher.py:1: DeprecationWarning: `np.object` is a deprecated alias for the builtin `object`. To silence this warning, use `object` by itself. Doing this will not modify any behavior and is safe. \n",
      "Deprecated in NumPy 1.20; for more details and guidance: https://numpy.org/devdocs/release/1.20.0-notes.html#deprecations\n",
      "  \"\"\"Entry point for launching an IPython kernel.\n"
     ]
    }
   ],
   "source": [
    "categorical = train.select_dtypes(include =[np.object])\n",
    "print(\"Categorical Features in Train Set:\",categorical.shape[1])\n",
    "\n",
    "numerical= train.select_dtypes(include =[np.float64,np.int64])\n",
    "print(\"Numerical Features in Train Set:\",numerical.shape[1])"
   ]
  },
  {
   "cell_type": "code",
   "execution_count": 13,
   "id": "577c9ebf",
   "metadata": {
    "execution": {
     "iopub.execute_input": "2023-01-06T16:35:59.842477Z",
     "iopub.status.busy": "2023-01-06T16:35:59.842027Z",
     "iopub.status.idle": "2023-01-06T16:35:59.853320Z",
     "shell.execute_reply": "2023-01-06T16:35:59.852101Z"
    },
    "id": "pRROxwbimbsp",
    "outputId": "bc0c8463-9955-44e1-9e9b-341b9d93f012",
    "papermill": {
     "duration": 0.040275,
     "end_time": "2023-01-06T16:35:59.855708",
     "exception": false,
     "start_time": "2023-01-06T16:35:59.815433",
     "status": "completed"
    },
    "tags": []
   },
   "outputs": [
    {
     "name": "stdout",
     "output_type": "stream",
     "text": [
      "Categorical Features in Test Set: 7\n",
      "Numerical Features in Test Set: 4\n"
     ]
    },
    {
     "name": "stderr",
     "output_type": "stream",
     "text": [
      "/opt/conda/lib/python3.7/site-packages/ipykernel_launcher.py:1: DeprecationWarning: `np.object` is a deprecated alias for the builtin `object`. To silence this warning, use `object` by itself. Doing this will not modify any behavior and is safe. \n",
      "Deprecated in NumPy 1.20; for more details and guidance: https://numpy.org/devdocs/release/1.20.0-notes.html#deprecations\n",
      "  \"\"\"Entry point for launching an IPython kernel.\n"
     ]
    }
   ],
   "source": [
    "categorical = test.select_dtypes(include =[np.object])\n",
    "print(\"Categorical Features in Test Set:\",categorical.shape[1])\n",
    "\n",
    "numerical= test.select_dtypes(include =[np.float64,np.int64])\n",
    "print(\"Numerical Features in Test Set:\",numerical.shape[1])"
   ]
  },
  {
   "cell_type": "code",
   "execution_count": 14,
   "id": "714b77d7",
   "metadata": {
    "execution": {
     "iopub.execute_input": "2023-01-06T16:35:59.908235Z",
     "iopub.status.busy": "2023-01-06T16:35:59.907088Z",
     "iopub.status.idle": "2023-01-06T16:35:59.937085Z",
     "shell.execute_reply": "2023-01-06T16:35:59.935810Z"
    },
    "id": "NoTu489Tmrsm",
    "outputId": "d1838f10-ffa8-4de7-ea05-2512307cd799",
    "papermill": {
     "duration": 0.058976,
     "end_time": "2023-01-06T16:35:59.939855",
     "exception": false,
     "start_time": "2023-01-06T16:35:59.880879",
     "status": "completed"
    },
    "tags": []
   },
   "outputs": [
    {
     "data": {
      "text/html": [
       "<div>\n",
       "<style scoped>\n",
       "    .dataframe tbody tr th:only-of-type {\n",
       "        vertical-align: middle;\n",
       "    }\n",
       "\n",
       "    .dataframe tbody tr th {\n",
       "        vertical-align: top;\n",
       "    }\n",
       "\n",
       "    .dataframe thead th {\n",
       "        text-align: right;\n",
       "    }\n",
       "</style>\n",
       "<table border=\"1\" class=\"dataframe\">\n",
       "  <thead>\n",
       "    <tr style=\"text-align: right;\">\n",
       "      <th></th>\n",
       "      <th>Item_Weight</th>\n",
       "      <th>Item_Visibility</th>\n",
       "      <th>Item_MRP</th>\n",
       "      <th>Outlet_Establishment_Year</th>\n",
       "      <th>Item_Outlet_Sales</th>\n",
       "    </tr>\n",
       "  </thead>\n",
       "  <tbody>\n",
       "    <tr>\n",
       "      <th>count</th>\n",
       "      <td>7060.000000</td>\n",
       "      <td>8523.000000</td>\n",
       "      <td>8523.000000</td>\n",
       "      <td>8523.000000</td>\n",
       "      <td>8523.000000</td>\n",
       "    </tr>\n",
       "    <tr>\n",
       "      <th>mean</th>\n",
       "      <td>12.857645</td>\n",
       "      <td>0.066132</td>\n",
       "      <td>140.992782</td>\n",
       "      <td>1997.831867</td>\n",
       "      <td>2181.288914</td>\n",
       "    </tr>\n",
       "    <tr>\n",
       "      <th>std</th>\n",
       "      <td>4.643456</td>\n",
       "      <td>0.051598</td>\n",
       "      <td>62.275067</td>\n",
       "      <td>8.371760</td>\n",
       "      <td>1706.499616</td>\n",
       "    </tr>\n",
       "    <tr>\n",
       "      <th>min</th>\n",
       "      <td>4.555000</td>\n",
       "      <td>0.000000</td>\n",
       "      <td>31.290000</td>\n",
       "      <td>1985.000000</td>\n",
       "      <td>33.290000</td>\n",
       "    </tr>\n",
       "    <tr>\n",
       "      <th>25%</th>\n",
       "      <td>8.773750</td>\n",
       "      <td>0.026989</td>\n",
       "      <td>93.826500</td>\n",
       "      <td>1987.000000</td>\n",
       "      <td>834.247400</td>\n",
       "    </tr>\n",
       "    <tr>\n",
       "      <th>50%</th>\n",
       "      <td>12.600000</td>\n",
       "      <td>0.053931</td>\n",
       "      <td>143.012800</td>\n",
       "      <td>1999.000000</td>\n",
       "      <td>1794.331000</td>\n",
       "    </tr>\n",
       "    <tr>\n",
       "      <th>75%</th>\n",
       "      <td>16.850000</td>\n",
       "      <td>0.094585</td>\n",
       "      <td>185.643700</td>\n",
       "      <td>2004.000000</td>\n",
       "      <td>3101.296400</td>\n",
       "    </tr>\n",
       "    <tr>\n",
       "      <th>max</th>\n",
       "      <td>21.350000</td>\n",
       "      <td>0.328391</td>\n",
       "      <td>266.888400</td>\n",
       "      <td>2009.000000</td>\n",
       "      <td>13086.964800</td>\n",
       "    </tr>\n",
       "  </tbody>\n",
       "</table>\n",
       "</div>"
      ],
      "text/plain": [
       "       Item_Weight  Item_Visibility     Item_MRP  Outlet_Establishment_Year  \\\n",
       "count  7060.000000      8523.000000  8523.000000                8523.000000   \n",
       "mean     12.857645         0.066132   140.992782                1997.831867   \n",
       "std       4.643456         0.051598    62.275067                   8.371760   \n",
       "min       4.555000         0.000000    31.290000                1985.000000   \n",
       "25%       8.773750         0.026989    93.826500                1987.000000   \n",
       "50%      12.600000         0.053931   143.012800                1999.000000   \n",
       "75%      16.850000         0.094585   185.643700                2004.000000   \n",
       "max      21.350000         0.328391   266.888400                2009.000000   \n",
       "\n",
       "       Item_Outlet_Sales  \n",
       "count        8523.000000  \n",
       "mean         2181.288914  \n",
       "std          1706.499616  \n",
       "min            33.290000  \n",
       "25%           834.247400  \n",
       "50%          1794.331000  \n",
       "75%          3101.296400  \n",
       "max         13086.964800  "
      ]
     },
     "execution_count": 14,
     "metadata": {},
     "output_type": "execute_result"
    }
   ],
   "source": [
    "train.describe()"
   ]
  },
  {
   "cell_type": "code",
   "execution_count": 15,
   "id": "d3224012",
   "metadata": {
    "execution": {
     "iopub.execute_input": "2023-01-06T16:35:59.993940Z",
     "iopub.status.busy": "2023-01-06T16:35:59.993183Z",
     "iopub.status.idle": "2023-01-06T16:36:00.015873Z",
     "shell.execute_reply": "2023-01-06T16:36:00.015073Z"
    },
    "id": "jE13D1SKmwac",
    "outputId": "4de7b368-79f9-40a5-de84-f11a8ac3e6d3",
    "papermill": {
     "duration": 0.051943,
     "end_time": "2023-01-06T16:36:00.017932",
     "exception": false,
     "start_time": "2023-01-06T16:35:59.965989",
     "status": "completed"
    },
    "tags": []
   },
   "outputs": [
    {
     "data": {
      "text/html": [
       "<div>\n",
       "<style scoped>\n",
       "    .dataframe tbody tr th:only-of-type {\n",
       "        vertical-align: middle;\n",
       "    }\n",
       "\n",
       "    .dataframe tbody tr th {\n",
       "        vertical-align: top;\n",
       "    }\n",
       "\n",
       "    .dataframe thead th {\n",
       "        text-align: right;\n",
       "    }\n",
       "</style>\n",
       "<table border=\"1\" class=\"dataframe\">\n",
       "  <thead>\n",
       "    <tr style=\"text-align: right;\">\n",
       "      <th></th>\n",
       "      <th>Item_Weight</th>\n",
       "      <th>Item_Visibility</th>\n",
       "      <th>Item_MRP</th>\n",
       "      <th>Outlet_Establishment_Year</th>\n",
       "    </tr>\n",
       "  </thead>\n",
       "  <tbody>\n",
       "    <tr>\n",
       "      <th>count</th>\n",
       "      <td>4705.000000</td>\n",
       "      <td>5681.000000</td>\n",
       "      <td>5681.000000</td>\n",
       "      <td>5681.000000</td>\n",
       "    </tr>\n",
       "    <tr>\n",
       "      <th>mean</th>\n",
       "      <td>12.695633</td>\n",
       "      <td>0.065684</td>\n",
       "      <td>141.023273</td>\n",
       "      <td>1997.828903</td>\n",
       "    </tr>\n",
       "    <tr>\n",
       "      <th>std</th>\n",
       "      <td>4.664849</td>\n",
       "      <td>0.051252</td>\n",
       "      <td>61.809091</td>\n",
       "      <td>8.372256</td>\n",
       "    </tr>\n",
       "    <tr>\n",
       "      <th>min</th>\n",
       "      <td>4.555000</td>\n",
       "      <td>0.000000</td>\n",
       "      <td>31.990000</td>\n",
       "      <td>1985.000000</td>\n",
       "    </tr>\n",
       "    <tr>\n",
       "      <th>25%</th>\n",
       "      <td>8.645000</td>\n",
       "      <td>0.027047</td>\n",
       "      <td>94.412000</td>\n",
       "      <td>1987.000000</td>\n",
       "    </tr>\n",
       "    <tr>\n",
       "      <th>50%</th>\n",
       "      <td>12.500000</td>\n",
       "      <td>0.054154</td>\n",
       "      <td>141.415400</td>\n",
       "      <td>1999.000000</td>\n",
       "    </tr>\n",
       "    <tr>\n",
       "      <th>75%</th>\n",
       "      <td>16.700000</td>\n",
       "      <td>0.093463</td>\n",
       "      <td>186.026600</td>\n",
       "      <td>2004.000000</td>\n",
       "    </tr>\n",
       "    <tr>\n",
       "      <th>max</th>\n",
       "      <td>21.350000</td>\n",
       "      <td>0.323637</td>\n",
       "      <td>266.588400</td>\n",
       "      <td>2009.000000</td>\n",
       "    </tr>\n",
       "  </tbody>\n",
       "</table>\n",
       "</div>"
      ],
      "text/plain": [
       "       Item_Weight  Item_Visibility     Item_MRP  Outlet_Establishment_Year\n",
       "count  4705.000000      5681.000000  5681.000000                5681.000000\n",
       "mean     12.695633         0.065684   141.023273                1997.828903\n",
       "std       4.664849         0.051252    61.809091                   8.372256\n",
       "min       4.555000         0.000000    31.990000                1985.000000\n",
       "25%       8.645000         0.027047    94.412000                1987.000000\n",
       "50%      12.500000         0.054154   141.415400                1999.000000\n",
       "75%      16.700000         0.093463   186.026600                2004.000000\n",
       "max      21.350000         0.323637   266.588400                2009.000000"
      ]
     },
     "execution_count": 15,
     "metadata": {},
     "output_type": "execute_result"
    }
   ],
   "source": [
    "test.describe()"
   ]
  },
  {
   "cell_type": "markdown",
   "id": "5a9cfbad",
   "metadata": {
    "id": "sFdRbxfAm03x",
    "papermill": {
     "duration": 0.025378,
     "end_time": "2023-01-06T16:36:00.069401",
     "exception": false,
     "start_time": "2023-01-06T16:36:00.044023",
     "status": "completed"
    },
    "tags": []
   },
   "source": [
    "# **Step 3. Data Cleaning**\n",
    "\n",
    "\n",
    "\n",
    "---\n",
    "\n",
    "\n",
    "> Missing data in the training data set can reduce the power / fit of a model or can lead to a biased model because we have not analysed the behavior and relationship with other variables correctly. It can lead to wrong prediction.\n",
    "\n"
   ]
  },
  {
   "cell_type": "markdown",
   "id": "d039a46e",
   "metadata": {
    "id": "Xpu-ckm1nC3Q",
    "papermill": {
     "duration": 0.025404,
     "end_time": "2023-01-06T16:36:00.120673",
     "exception": false,
     "start_time": "2023-01-06T16:36:00.095269",
     "status": "completed"
    },
    "tags": []
   },
   "source": [
    "1.   Item Size\n",
    "\n",
    "\n"
   ]
  },
  {
   "cell_type": "code",
   "execution_count": 16,
   "id": "2b188b86",
   "metadata": {
    "execution": {
     "iopub.execute_input": "2023-01-06T16:36:00.174179Z",
     "iopub.status.busy": "2023-01-06T16:36:00.173720Z",
     "iopub.status.idle": "2023-01-06T16:36:00.180772Z",
     "shell.execute_reply": "2023-01-06T16:36:00.179706Z"
    },
    "id": "midQBfyBnWVZ",
    "outputId": "2d1c49a3-e69d-4db6-ccad-454a20eb1480",
    "papermill": {
     "duration": 0.036236,
     "end_time": "2023-01-06T16:36:00.182849",
     "exception": false,
     "start_time": "2023-01-06T16:36:00.146613",
     "status": "completed"
    },
    "tags": []
   },
   "outputs": [
    {
     "data": {
      "text/plain": [
       "Index(['Item_Identifier', 'Item_Weight', 'Item_Fat_Content', 'Item_Visibility',\n",
       "       'Item_Type', 'Item_MRP', 'Outlet_Identifier',\n",
       "       'Outlet_Establishment_Year', 'Outlet_Size', 'Outlet_Location_Type',\n",
       "       'Outlet_Type', 'Item_Outlet_Sales'],\n",
       "      dtype='object')"
      ]
     },
     "execution_count": 16,
     "metadata": {},
     "output_type": "execute_result"
    }
   ],
   "source": [
    "train.columns"
   ]
  },
  {
   "cell_type": "code",
   "execution_count": 17,
   "id": "685381b4",
   "metadata": {
    "execution": {
     "iopub.execute_input": "2023-01-06T16:36:00.237122Z",
     "iopub.status.busy": "2023-01-06T16:36:00.236041Z",
     "iopub.status.idle": "2023-01-06T16:36:00.244550Z",
     "shell.execute_reply": "2023-01-06T16:36:00.243590Z"
    },
    "id": "IT5cyxBOnZj1",
    "outputId": "749b1078-037c-45b0-e6c7-4dc3c5089398",
    "papermill": {
     "duration": 0.037933,
     "end_time": "2023-01-06T16:36:00.246621",
     "exception": false,
     "start_time": "2023-01-06T16:36:00.208688",
     "status": "completed"
    },
    "tags": []
   },
   "outputs": [
    {
     "data": {
      "text/plain": [
       "(1463, 976)"
      ]
     },
     "execution_count": 17,
     "metadata": {},
     "output_type": "execute_result"
    }
   ],
   "source": [
    "train['Item_Weight'].isnull().sum(),test['Item_Weight'].isnull().sum()"
   ]
  },
  {
   "cell_type": "code",
   "execution_count": 18,
   "id": "00fd2121",
   "metadata": {
    "execution": {
     "iopub.execute_input": "2023-01-06T16:36:00.300641Z",
     "iopub.status.busy": "2023-01-06T16:36:00.300231Z",
     "iopub.status.idle": "2023-01-06T16:36:00.588994Z",
     "shell.execute_reply": "2023-01-06T16:36:00.587723Z"
    },
    "id": "K8aZSb3LncKR",
    "outputId": "1a055333-ed81-45d3-a7a6-872803e8e468",
    "papermill": {
     "duration": 0.318753,
     "end_time": "2023-01-06T16:36:00.591498",
     "exception": false,
     "start_time": "2023-01-06T16:36:00.272745",
     "status": "completed"
    },
    "tags": []
   },
   "outputs": [
    {
     "name": "stderr",
     "output_type": "stream",
     "text": [
      "/opt/conda/lib/python3.7/site-packages/seaborn/_decorators.py:43: FutureWarning: Pass the following variable as a keyword arg: x. From version 0.12, the only valid positional argument will be `data`, and passing other arguments without an explicit keyword will result in an error or misinterpretation.\n",
      "  FutureWarning\n"
     ]
    },
    {
     "data": {
      "text/plain": [
       "<AxesSubplot:xlabel='Item_Weight'>"
      ]
     },
     "execution_count": 18,
     "metadata": {},
     "output_type": "execute_result"
    },
    {
     "data": {
      "image/png": "[encoded data removed]",
      "text/plain": [
       "<Figure size 576x360 with 1 Axes>"
      ]
     },
     "metadata": {
      "needs_background": "light"
     },
     "output_type": "display_data"
    }
   ],
   "source": [
    "plt.figure(figsize=(8,5))\n",
    "sns.boxplot('Item_Weight',data=train)"
   ]
  },
  {
   "cell_type": "code",
   "execution_count": 19,
   "id": "64df5fb1",
   "metadata": {
    "execution": {
     "iopub.execute_input": "2023-01-06T16:36:00.646976Z",
     "iopub.status.busy": "2023-01-06T16:36:00.645978Z",
     "iopub.status.idle": "2023-01-06T16:36:00.890253Z",
     "shell.execute_reply": "2023-01-06T16:36:00.889164Z"
    },
    "id": "ngB7WY3InfZF",
    "outputId": "26770a08-9663-42a5-c937-8dfb0ed9a596",
    "papermill": {
     "duration": 0.274537,
     "end_time": "2023-01-06T16:36:00.892561",
     "exception": false,
     "start_time": "2023-01-06T16:36:00.618024",
     "status": "completed"
    },
    "tags": []
   },
   "outputs": [
    {
     "name": "stderr",
     "output_type": "stream",
     "text": [
      "/opt/conda/lib/python3.7/site-packages/seaborn/_decorators.py:43: FutureWarning: Pass the following variable as a keyword arg: x. From version 0.12, the only valid positional argument will be `data`, and passing other arguments without an explicit keyword will result in an error or misinterpretation.\n",
      "  FutureWarning\n"
     ]
    },
    {
     "data": {
      "text/plain": [
       "<AxesSubplot:xlabel='Item_Weight'>"
      ]
     },
     "execution_count": 19,
     "metadata": {},
     "output_type": "execute_result"
    },
    {
     "data": {
      "image/png": "[encoded data removed]",
      "text/plain": [
       "<Figure size 576x360 with 1 Axes>"
      ]
     },
     "metadata": {
      "needs_background": "light"
     },
     "output_type": "display_data"
    }
   ],
   "source": [
    "plt.figure(figsize=(8,5))\n",
    "sns.boxplot('Item_Weight',data=test)"
   ]
  },
  {
   "cell_type": "markdown",
   "id": "e6ceb04f",
   "metadata": {
    "id": "5LWyUxPUnj34",
    "papermill": {
     "duration": 0.026255,
     "end_time": "2023-01-06T16:36:00.945759",
     "exception": false,
     "start_time": "2023-01-06T16:36:00.919504",
     "status": "completed"
    },
    "tags": []
   },
   "source": [
    "**The Box Plots above clearly show no \"Outliers\" and hence we can impute the missing values with \"Mean\"**\n",
    "\n",
    "------\n",
    "\n",
    "\n"
   ]
  },
  {
   "cell_type": "code",
   "execution_count": 20,
   "id": "40c787f2",
   "metadata": {
    "execution": {
     "iopub.execute_input": "2023-01-06T16:36:01.002190Z",
     "iopub.status.busy": "2023-01-06T16:36:01.001189Z",
     "iopub.status.idle": "2023-01-06T16:36:01.007801Z",
     "shell.execute_reply": "2023-01-06T16:36:01.006988Z"
    },
    "id": "TVFIrmVlnpYL",
    "papermill": {
     "duration": 0.037257,
     "end_time": "2023-01-06T16:36:01.010101",
     "exception": false,
     "start_time": "2023-01-06T16:36:00.972844",
     "status": "completed"
    },
    "tags": []
   },
   "outputs": [],
   "source": [
    "train['Item_Weight']= train['Item_Weight'].fillna(train['Item_Weight'].mean())\n",
    "test['Item_Weight']= test['Item_Weight'].fillna(test['Item_Weight'].mean())"
   ]
  },
  {
   "cell_type": "code",
   "execution_count": 21,
   "id": "28d31527",
   "metadata": {
    "execution": {
     "iopub.execute_input": "2023-01-06T16:36:01.067632Z",
     "iopub.status.busy": "2023-01-06T16:36:01.065324Z",
     "iopub.status.idle": "2023-01-06T16:36:01.074831Z",
     "shell.execute_reply": "2023-01-06T16:36:01.073869Z"
    },
    "id": "dXUOcYJVnsF3",
    "outputId": "2345f90d-aded-477a-cf9d-aae572147594",
    "papermill": {
     "duration": 0.039814,
     "end_time": "2023-01-06T16:36:01.076936",
     "exception": false,
     "start_time": "2023-01-06T16:36:01.037122",
     "status": "completed"
    },
    "tags": []
   },
   "outputs": [
    {
     "data": {
      "text/plain": [
       "(0, 0)"
      ]
     },
     "execution_count": 21,
     "metadata": {},
     "output_type": "execute_result"
    }
   ],
   "source": [
    "train['Item_Weight'].isnull().sum(),test['Item_Weight'].isnull().sum()"
   ]
  },
  {
   "cell_type": "markdown",
   "id": "6f390f46",
   "metadata": {
    "id": "Dp_-M0YHnvZl",
    "papermill": {
     "duration": 0.027031,
     "end_time": "2023-01-06T16:36:01.130988",
     "exception": false,
     "start_time": "2023-01-06T16:36:01.103957",
     "status": "completed"
    },
    "tags": []
   },
   "source": [
    "**We have succesfully imputed the missing values from the column Item_Weight.**\n",
    "\n",
    "---\n",
    "\n",
    "\n",
    "\n",
    "**2.   Outlet Size**\n",
    "\n",
    "\n"
   ]
  },
  {
   "cell_type": "code",
   "execution_count": 22,
   "id": "60f3dfaf",
   "metadata": {
    "execution": {
     "iopub.execute_input": "2023-01-06T16:36:01.187821Z",
     "iopub.status.busy": "2023-01-06T16:36:01.187154Z",
     "iopub.status.idle": "2023-01-06T16:36:01.196131Z",
     "shell.execute_reply": "2023-01-06T16:36:01.195002Z"
    },
    "id": "mkIdkxA9nu-a",
    "outputId": "1c540dd8-a694-4d70-872c-bad4a8c90919",
    "papermill": {
     "duration": 0.040196,
     "end_time": "2023-01-06T16:36:01.198434",
     "exception": false,
     "start_time": "2023-01-06T16:36:01.158238",
     "status": "completed"
    },
    "tags": []
   },
   "outputs": [
    {
     "data": {
      "text/plain": [
       "(2410, 1606)"
      ]
     },
     "execution_count": 22,
     "metadata": {},
     "output_type": "execute_result"
    }
   ],
   "source": [
    "train['Outlet_Size'].isnull().sum(),test['Outlet_Size'].isnull().sum()"
   ]
  },
  {
   "cell_type": "code",
   "execution_count": 23,
   "id": "2d2ea0e9",
   "metadata": {
    "execution": {
     "iopub.execute_input": "2023-01-06T16:36:01.254093Z",
     "iopub.status.busy": "2023-01-06T16:36:01.253707Z",
     "iopub.status.idle": "2023-01-06T16:36:01.262522Z",
     "shell.execute_reply": "2023-01-06T16:36:01.261360Z"
    },
    "id": "GVw36wABoAmY",
    "outputId": "7d2b4cea-5e9b-4b34-a271-c3531992cd6b",
    "papermill": {
     "duration": 0.039233,
     "end_time": "2023-01-06T16:36:01.264804",
     "exception": false,
     "start_time": "2023-01-06T16:36:01.225571",
     "status": "completed"
    },
    "tags": []
   },
   "outputs": [
    {
     "name": "stdout",
     "output_type": "stream",
     "text": [
      "Medium    2793\n",
      "Small     2388\n",
      "High       932\n",
      "Name: Outlet_Size, dtype: int64\n",
      "******************************************\n",
      "Medium    1862\n",
      "Small     1592\n",
      "High       621\n",
      "Name: Outlet_Size, dtype: int64\n"
     ]
    }
   ],
   "source": [
    "print(train['Outlet_Size'].value_counts())\n",
    "print('******************************************')\n",
    "print(test['Outlet_Size'].value_counts())"
   ]
  },
  {
   "cell_type": "markdown",
   "id": "4a0813cf",
   "metadata": {
    "id": "OgYkS3EZoDlV",
    "papermill": {
     "duration": 0.03072,
     "end_time": "2023-01-06T16:36:01.326383",
     "exception": false,
     "start_time": "2023-01-06T16:36:01.295663",
     "status": "completed"
    },
    "tags": []
   },
   "source": [
    "**Since the outlet_size is a categorical column, we can impute the missing values by \"Mode\"(Most Repeated Value) from the column.**"
   ]
  },
  {
   "cell_type": "code",
   "execution_count": 24,
   "id": "7343b415",
   "metadata": {
    "execution": {
     "iopub.execute_input": "2023-01-06T16:36:01.384589Z",
     "iopub.status.busy": "2023-01-06T16:36:01.383903Z",
     "iopub.status.idle": "2023-01-06T16:36:01.394015Z",
     "shell.execute_reply": "2023-01-06T16:36:01.392623Z"
    },
    "id": "oMgL8bN3oE6Y",
    "papermill": {
     "duration": 0.0419,
     "end_time": "2023-01-06T16:36:01.396445",
     "exception": false,
     "start_time": "2023-01-06T16:36:01.354545",
     "status": "completed"
    },
    "tags": []
   },
   "outputs": [],
   "source": [
    "train['Outlet_Size']= train['Outlet_Size'].fillna(train['Outlet_Size'].mode()[0])\n",
    "test['Outlet_Size']= test['Outlet_Size'].fillna(test['Outlet_Size'].mode()[0])"
   ]
  },
  {
   "cell_type": "code",
   "execution_count": 25,
   "id": "ced564ac",
   "metadata": {
    "execution": {
     "iopub.execute_input": "2023-01-06T16:36:01.452635Z",
     "iopub.status.busy": "2023-01-06T16:36:01.452213Z",
     "iopub.status.idle": "2023-01-06T16:36:01.461222Z",
     "shell.execute_reply": "2023-01-06T16:36:01.460476Z"
    },
    "id": "t0yz8Dq2oHZn",
    "outputId": "0b400a50-6625-439a-ad6e-190e9dc0534a",
    "papermill": {
     "duration": 0.039717,
     "end_time": "2023-01-06T16:36:01.463167",
     "exception": false,
     "start_time": "2023-01-06T16:36:01.423450",
     "status": "completed"
    },
    "tags": []
   },
   "outputs": [
    {
     "data": {
      "text/plain": [
       "(0, 0)"
      ]
     },
     "execution_count": 25,
     "metadata": {},
     "output_type": "execute_result"
    }
   ],
   "source": [
    "train['Outlet_Size'].isnull().sum(),test['Outlet_Size'].isnull().sum()"
   ]
  },
  {
   "cell_type": "markdown",
   "id": "124775a7",
   "metadata": {
    "id": "Q_i9k2lWoLif",
    "papermill": {
     "duration": 0.026825,
     "end_time": "2023-01-06T16:36:01.517848",
     "exception": false,
     "start_time": "2023-01-06T16:36:01.491023",
     "status": "completed"
    },
    "tags": []
   },
   "source": [
    "**We have succesfully imputed the missing values from the column Outlet_Size.**\n",
    "\n",
    "---\n",
    "\n"
   ]
  },
  {
   "cell_type": "markdown",
   "id": "5e059ba9",
   "metadata": {
    "id": "Ap70umojoRGs",
    "papermill": {
     "duration": 0.026722,
     "end_time": "2023-01-06T16:36:01.571763",
     "exception": false,
     "start_time": "2023-01-06T16:36:01.545041",
     "status": "completed"
    },
    "tags": []
   },
   "source": [
    "# **Step 4. Exploratory Data Analysis**\n",
    "\n",
    "---\n",
    "\n"
   ]
  },
  {
   "cell_type": "code",
   "execution_count": 26,
   "id": "5216ec90",
   "metadata": {
    "execution": {
     "iopub.execute_input": "2023-01-06T16:36:01.628034Z",
     "iopub.status.busy": "2023-01-06T16:36:01.627615Z",
     "iopub.status.idle": "2023-01-06T16:36:01.634585Z",
     "shell.execute_reply": "2023-01-06T16:36:01.633448Z"
    },
    "id": "rxcVkAnQoUrx",
    "outputId": "3e0b22a5-def9-4e3c-90dd-8120892e6614",
    "papermill": {
     "duration": 0.037949,
     "end_time": "2023-01-06T16:36:01.636927",
     "exception": false,
     "start_time": "2023-01-06T16:36:01.598978",
     "status": "completed"
    },
    "tags": []
   },
   "outputs": [
    {
     "data": {
      "text/plain": [
       "Index(['Item_Identifier', 'Item_Weight', 'Item_Fat_Content', 'Item_Visibility',\n",
       "       'Item_Type', 'Item_MRP', 'Outlet_Identifier',\n",
       "       'Outlet_Establishment_Year', 'Outlet_Size', 'Outlet_Location_Type',\n",
       "       'Outlet_Type', 'Item_Outlet_Sales'],\n",
       "      dtype='object')"
      ]
     },
     "execution_count": 26,
     "metadata": {},
     "output_type": "execute_result"
    }
   ],
   "source": [
    "train.columns"
   ]
  },
  {
   "cell_type": "code",
   "execution_count": 27,
   "id": "1304ac29",
   "metadata": {
    "execution": {
     "iopub.execute_input": "2023-01-06T16:36:01.693631Z",
     "iopub.status.busy": "2023-01-06T16:36:01.693227Z",
     "iopub.status.idle": "2023-01-06T16:36:01.711288Z",
     "shell.execute_reply": "2023-01-06T16:36:01.710161Z"
    },
    "id": "sqf48YcloYlh",
    "outputId": "9177335b-9918-4991-8af6-d5190ae9f1a2",
    "papermill": {
     "duration": 0.049615,
     "end_time": "2023-01-06T16:36:01.713837",
     "exception": false,
     "start_time": "2023-01-06T16:36:01.664222",
     "status": "completed"
    },
    "tags": []
   },
   "outputs": [
    {
     "data": {
      "text/html": [
       "<div>\n",
       "<style scoped>\n",
       "    .dataframe tbody tr th:only-of-type {\n",
       "        vertical-align: middle;\n",
       "    }\n",
       "\n",
       "    .dataframe tbody tr th {\n",
       "        vertical-align: top;\n",
       "    }\n",
       "\n",
       "    .dataframe thead th {\n",
       "        text-align: right;\n",
       "    }\n",
       "</style>\n",
       "<table border=\"1\" class=\"dataframe\">\n",
       "  <thead>\n",
       "    <tr style=\"text-align: right;\">\n",
       "      <th></th>\n",
       "      <th>Item_Identifier</th>\n",
       "      <th>Item_Weight</th>\n",
       "      <th>Item_Fat_Content</th>\n",
       "      <th>Item_Visibility</th>\n",
       "      <th>Item_Type</th>\n",
       "      <th>Item_MRP</th>\n",
       "      <th>Outlet_Identifier</th>\n",
       "      <th>Outlet_Establishment_Year</th>\n",
       "      <th>Outlet_Size</th>\n",
       "      <th>Outlet_Location_Type</th>\n",
       "      <th>Outlet_Type</th>\n",
       "      <th>Item_Outlet_Sales</th>\n",
       "    </tr>\n",
       "  </thead>\n",
       "  <tbody>\n",
       "    <tr>\n",
       "      <th>0</th>\n",
       "      <td>FDA15</td>\n",
       "      <td>9.30</td>\n",
       "      <td>Low Fat</td>\n",
       "      <td>0.016047</td>\n",
       "      <td>Dairy</td>\n",
       "      <td>249.8092</td>\n",
       "      <td>OUT049</td>\n",
       "      <td>1999</td>\n",
       "      <td>Medium</td>\n",
       "      <td>Tier 1</td>\n",
       "      <td>Supermarket Type1</td>\n",
       "      <td>3735.1380</td>\n",
       "    </tr>\n",
       "    <tr>\n",
       "      <th>1</th>\n",
       "      <td>DRC01</td>\n",
       "      <td>5.92</td>\n",
       "      <td>Regular</td>\n",
       "      <td>0.019278</td>\n",
       "      <td>Soft Drinks</td>\n",
       "      <td>48.2692</td>\n",
       "      <td>OUT018</td>\n",
       "      <td>2009</td>\n",
       "      <td>Medium</td>\n",
       "      <td>Tier 3</td>\n",
       "      <td>Supermarket Type2</td>\n",
       "      <td>443.4228</td>\n",
       "    </tr>\n",
       "    <tr>\n",
       "      <th>2</th>\n",
       "      <td>FDN15</td>\n",
       "      <td>17.50</td>\n",
       "      <td>Low Fat</td>\n",
       "      <td>0.016760</td>\n",
       "      <td>Meat</td>\n",
       "      <td>141.6180</td>\n",
       "      <td>OUT049</td>\n",
       "      <td>1999</td>\n",
       "      <td>Medium</td>\n",
       "      <td>Tier 1</td>\n",
       "      <td>Supermarket Type1</td>\n",
       "      <td>2097.2700</td>\n",
       "    </tr>\n",
       "    <tr>\n",
       "      <th>3</th>\n",
       "      <td>FDX07</td>\n",
       "      <td>19.20</td>\n",
       "      <td>Regular</td>\n",
       "      <td>0.000000</td>\n",
       "      <td>Fruits and Vegetables</td>\n",
       "      <td>182.0950</td>\n",
       "      <td>OUT010</td>\n",
       "      <td>1998</td>\n",
       "      <td>Medium</td>\n",
       "      <td>Tier 3</td>\n",
       "      <td>Grocery Store</td>\n",
       "      <td>732.3800</td>\n",
       "    </tr>\n",
       "    <tr>\n",
       "      <th>4</th>\n",
       "      <td>NCD19</td>\n",
       "      <td>8.93</td>\n",
       "      <td>Low Fat</td>\n",
       "      <td>0.000000</td>\n",
       "      <td>Household</td>\n",
       "      <td>53.8614</td>\n",
       "      <td>OUT013</td>\n",
       "      <td>1987</td>\n",
       "      <td>High</td>\n",
       "      <td>Tier 3</td>\n",
       "      <td>Supermarket Type1</td>\n",
       "      <td>994.7052</td>\n",
       "    </tr>\n",
       "  </tbody>\n",
       "</table>\n",
       "</div>"
      ],
      "text/plain": [
       "  Item_Identifier  Item_Weight Item_Fat_Content  Item_Visibility  \\\n",
       "0           FDA15         9.30          Low Fat         0.016047   \n",
       "1           DRC01         5.92          Regular         0.019278   \n",
       "2           FDN15        17.50          Low Fat         0.016760   \n",
       "3           FDX07        19.20          Regular         0.000000   \n",
       "4           NCD19         8.93          Low Fat         0.000000   \n",
       "\n",
       "               Item_Type  Item_MRP Outlet_Identifier  \\\n",
       "0                  Dairy  249.8092            OUT049   \n",
       "1            Soft Drinks   48.2692            OUT018   \n",
       "2                   Meat  141.6180            OUT049   \n",
       "3  Fruits and Vegetables  182.0950            OUT010   \n",
       "4              Household   53.8614            OUT013   \n",
       "\n",
       "   Outlet_Establishment_Year Outlet_Size Outlet_Location_Type  \\\n",
       "0                       1999      Medium               Tier 1   \n",
       "1                       2009      Medium               Tier 3   \n",
       "2                       1999      Medium               Tier 1   \n",
       "3                       1998      Medium               Tier 3   \n",
       "4                       1987        High               Tier 3   \n",
       "\n",
       "         Outlet_Type  Item_Outlet_Sales  \n",
       "0  Supermarket Type1          3735.1380  \n",
       "1  Supermarket Type2           443.4228  \n",
       "2  Supermarket Type1          2097.2700  \n",
       "3      Grocery Store           732.3800  \n",
       "4  Supermarket Type1           994.7052  "
      ]
     },
     "execution_count": 27,
     "metadata": {},
     "output_type": "execute_result"
    }
   ],
   "source": [
    "train.head()"
   ]
  },
  {
   "cell_type": "code",
   "execution_count": 28,
   "id": "65385053",
   "metadata": {
    "execution": {
     "iopub.execute_input": "2023-01-06T16:36:01.775702Z",
     "iopub.status.busy": "2023-01-06T16:36:01.775012Z",
     "iopub.status.idle": "2023-01-06T16:36:01.784976Z",
     "shell.execute_reply": "2023-01-06T16:36:01.783766Z"
    },
    "id": "9aNPGHWuocW5",
    "outputId": "bed6f167-d1ee-4129-f910-78ed7e6d7e0b",
    "papermill": {
     "duration": 0.04386,
     "end_time": "2023-01-06T16:36:01.787173",
     "exception": false,
     "start_time": "2023-01-06T16:36:01.743313",
     "status": "completed"
    },
    "tags": []
   },
   "outputs": [
    {
     "data": {
      "text/plain": [
       "Low Fat    5089\n",
       "Regular    2889\n",
       "LF          316\n",
       "reg         117\n",
       "low fat     112\n",
       "Name: Item_Fat_Content, dtype: int64"
      ]
     },
     "execution_count": 28,
     "metadata": {},
     "output_type": "execute_result"
    }
   ],
   "source": [
    "train['Item_Fat_Content'].value_counts()"
   ]
  },
  {
   "cell_type": "markdown",
   "id": "a9fec62c",
   "metadata": {
    "id": "ECmyRLKioeuE",
    "papermill": {
     "duration": 0.027825,
     "end_time": "2023-01-06T16:36:01.843860",
     "exception": false,
     "start_time": "2023-01-06T16:36:01.816035",
     "status": "completed"
    },
    "tags": []
   },
   "source": [
    "**We see there are some irregularities in the column and it is needed to fix them!**"
   ]
  },
  {
   "cell_type": "code",
   "execution_count": 29,
   "id": "c4f148bf",
   "metadata": {
    "execution": {
     "iopub.execute_input": "2023-01-06T16:36:01.901871Z",
     "iopub.status.busy": "2023-01-06T16:36:01.901463Z",
     "iopub.status.idle": "2023-01-06T16:36:01.911093Z",
     "shell.execute_reply": "2023-01-06T16:36:01.910294Z"
    },
    "id": "_kRvwNNFogj7",
    "papermill": {
     "duration": 0.041123,
     "end_time": "2023-01-06T16:36:01.913285",
     "exception": false,
     "start_time": "2023-01-06T16:36:01.872162",
     "status": "completed"
    },
    "tags": []
   },
   "outputs": [],
   "source": [
    "train['Item_Fat_Content'].replace(['low fat','LF','reg'],['Low Fat','Low Fat','Regular'],inplace = True)\n",
    "test['Item_Fat_Content'].replace(['low fat','LF','reg'],['Low Fat','Low Fat','Regular'],inplace = True)"
   ]
  },
  {
   "cell_type": "code",
   "execution_count": 30,
   "id": "fd2a4919",
   "metadata": {
    "execution": {
     "iopub.execute_input": "2023-01-06T16:36:01.971266Z",
     "iopub.status.busy": "2023-01-06T16:36:01.970826Z",
     "iopub.status.idle": "2023-01-06T16:36:01.977129Z",
     "shell.execute_reply": "2023-01-06T16:36:01.975967Z"
    },
    "id": "Q0NqnD3JokJF",
    "papermill": {
     "duration": 0.039848,
     "end_time": "2023-01-06T16:36:01.980954",
     "exception": false,
     "start_time": "2023-01-06T16:36:01.941106",
     "status": "completed"
    },
    "tags": []
   },
   "outputs": [],
   "source": [
    "train['Item_Fat_Content']= train['Item_Fat_Content'].astype(str)"
   ]
  },
  {
   "cell_type": "code",
   "execution_count": 31,
   "id": "3975d145",
   "metadata": {
    "execution": {
     "iopub.execute_input": "2023-01-06T16:36:02.064620Z",
     "iopub.status.busy": "2023-01-06T16:36:02.063312Z",
     "iopub.status.idle": "2023-01-06T16:36:02.076983Z",
     "shell.execute_reply": "2023-01-06T16:36:02.076135Z"
    },
    "id": "PuFfUkWvol80",
    "papermill": {
     "duration": 0.059317,
     "end_time": "2023-01-06T16:36:02.079525",
     "exception": false,
     "start_time": "2023-01-06T16:36:02.020208",
     "status": "completed"
    },
    "tags": []
   },
   "outputs": [],
   "source": [
    "train['Years_Established'] = train['Outlet_Establishment_Year'].apply(lambda x: 2020 - x) \n",
    "test['Years_Established'] = test['Outlet_Establishment_Year'].apply(lambda x: 2020 - x)"
   ]
  },
  {
   "cell_type": "code",
   "execution_count": 32,
   "id": "34ee5e88",
   "metadata": {
    "execution": {
     "iopub.execute_input": "2023-01-06T16:36:02.140330Z",
     "iopub.status.busy": "2023-01-06T16:36:02.139133Z",
     "iopub.status.idle": "2023-01-06T16:36:02.157269Z",
     "shell.execute_reply": "2023-01-06T16:36:02.156444Z"
    },
    "id": "I2Pn3T0Vonqx",
    "outputId": "aa6c89b9-fefd-47e3-c080-c19981f466cb",
    "papermill": {
     "duration": 0.049592,
     "end_time": "2023-01-06T16:36:02.159316",
     "exception": false,
     "start_time": "2023-01-06T16:36:02.109724",
     "status": "completed"
    },
    "tags": []
   },
   "outputs": [
    {
     "data": {
      "text/html": [
       "<div>\n",
       "<style scoped>\n",
       "    .dataframe tbody tr th:only-of-type {\n",
       "        vertical-align: middle;\n",
       "    }\n",
       "\n",
       "    .dataframe tbody tr th {\n",
       "        vertical-align: top;\n",
       "    }\n",
       "\n",
       "    .dataframe thead th {\n",
       "        text-align: right;\n",
       "    }\n",
       "</style>\n",
       "<table border=\"1\" class=\"dataframe\">\n",
       "  <thead>\n",
       "    <tr style=\"text-align: right;\">\n",
       "      <th></th>\n",
       "      <th>Item_Identifier</th>\n",
       "      <th>Item_Weight</th>\n",
       "      <th>Item_Fat_Content</th>\n",
       "      <th>Item_Visibility</th>\n",
       "      <th>Item_Type</th>\n",
       "      <th>Item_MRP</th>\n",
       "      <th>Outlet_Identifier</th>\n",
       "      <th>Outlet_Establishment_Year</th>\n",
       "      <th>Outlet_Size</th>\n",
       "      <th>Outlet_Location_Type</th>\n",
       "      <th>Outlet_Type</th>\n",
       "      <th>Item_Outlet_Sales</th>\n",
       "      <th>Years_Established</th>\n",
       "    </tr>\n",
       "  </thead>\n",
       "  <tbody>\n",
       "    <tr>\n",
       "      <th>0</th>\n",
       "      <td>FDA15</td>\n",
       "      <td>9.30</td>\n",
       "      <td>Low Fat</td>\n",
       "      <td>0.016047</td>\n",
       "      <td>Dairy</td>\n",
       "      <td>249.8092</td>\n",
       "      <td>OUT049</td>\n",
       "      <td>1999</td>\n",
       "      <td>Medium</td>\n",
       "      <td>Tier 1</td>\n",
       "      <td>Supermarket Type1</td>\n",
       "      <td>3735.1380</td>\n",
       "      <td>21</td>\n",
       "    </tr>\n",
       "    <tr>\n",
       "      <th>1</th>\n",
       "      <td>DRC01</td>\n",
       "      <td>5.92</td>\n",
       "      <td>Regular</td>\n",
       "      <td>0.019278</td>\n",
       "      <td>Soft Drinks</td>\n",
       "      <td>48.2692</td>\n",
       "      <td>OUT018</td>\n",
       "      <td>2009</td>\n",
       "      <td>Medium</td>\n",
       "      <td>Tier 3</td>\n",
       "      <td>Supermarket Type2</td>\n",
       "      <td>443.4228</td>\n",
       "      <td>11</td>\n",
       "    </tr>\n",
       "    <tr>\n",
       "      <th>2</th>\n",
       "      <td>FDN15</td>\n",
       "      <td>17.50</td>\n",
       "      <td>Low Fat</td>\n",
       "      <td>0.016760</td>\n",
       "      <td>Meat</td>\n",
       "      <td>141.6180</td>\n",
       "      <td>OUT049</td>\n",
       "      <td>1999</td>\n",
       "      <td>Medium</td>\n",
       "      <td>Tier 1</td>\n",
       "      <td>Supermarket Type1</td>\n",
       "      <td>2097.2700</td>\n",
       "      <td>21</td>\n",
       "    </tr>\n",
       "    <tr>\n",
       "      <th>3</th>\n",
       "      <td>FDX07</td>\n",
       "      <td>19.20</td>\n",
       "      <td>Regular</td>\n",
       "      <td>0.000000</td>\n",
       "      <td>Fruits and Vegetables</td>\n",
       "      <td>182.0950</td>\n",
       "      <td>OUT010</td>\n",
       "      <td>1998</td>\n",
       "      <td>Medium</td>\n",
       "      <td>Tier 3</td>\n",
       "      <td>Grocery Store</td>\n",
       "      <td>732.3800</td>\n",
       "      <td>22</td>\n",
       "    </tr>\n",
       "    <tr>\n",
       "      <th>4</th>\n",
       "      <td>NCD19</td>\n",
       "      <td>8.93</td>\n",
       "      <td>Low Fat</td>\n",
       "      <td>0.000000</td>\n",
       "      <td>Household</td>\n",
       "      <td>53.8614</td>\n",
       "      <td>OUT013</td>\n",
       "      <td>1987</td>\n",
       "      <td>High</td>\n",
       "      <td>Tier 3</td>\n",
       "      <td>Supermarket Type1</td>\n",
       "      <td>994.7052</td>\n",
       "      <td>33</td>\n",
       "    </tr>\n",
       "  </tbody>\n",
       "</table>\n",
       "</div>"
      ],
      "text/plain": [
       "  Item_Identifier  Item_Weight Item_Fat_Content  Item_Visibility  \\\n",
       "0           FDA15         9.30          Low Fat         0.016047   \n",
       "1           DRC01         5.92          Regular         0.019278   \n",
       "2           FDN15        17.50          Low Fat         0.016760   \n",
       "3           FDX07        19.20          Regular         0.000000   \n",
       "4           NCD19         8.93          Low Fat         0.000000   \n",
       "\n",
       "               Item_Type  Item_MRP Outlet_Identifier  \\\n",
       "0                  Dairy  249.8092            OUT049   \n",
       "1            Soft Drinks   48.2692            OUT018   \n",
       "2                   Meat  141.6180            OUT049   \n",
       "3  Fruits and Vegetables  182.0950            OUT010   \n",
       "4              Household   53.8614            OUT013   \n",
       "\n",
       "   Outlet_Establishment_Year Outlet_Size Outlet_Location_Type  \\\n",
       "0                       1999      Medium               Tier 1   \n",
       "1                       2009      Medium               Tier 3   \n",
       "2                       1999      Medium               Tier 1   \n",
       "3                       1998      Medium               Tier 3   \n",
       "4                       1987        High               Tier 3   \n",
       "\n",
       "         Outlet_Type  Item_Outlet_Sales  Years_Established  \n",
       "0  Supermarket Type1          3735.1380                 21  \n",
       "1  Supermarket Type2           443.4228                 11  \n",
       "2  Supermarket Type1          2097.2700                 21  \n",
       "3      Grocery Store           732.3800                 22  \n",
       "4  Supermarket Type1           994.7052                 33  "
      ]
     },
     "execution_count": 32,
     "metadata": {},
     "output_type": "execute_result"
    }
   ],
   "source": [
    "train.head()"
   ]
  },
  {
   "cell_type": "markdown",
   "id": "ab58d311",
   "metadata": {
    "id": "DJy_HfYZorEZ",
    "papermill": {
     "duration": 0.027706,
     "end_time": "2023-01-06T16:36:02.215000",
     "exception": false,
     "start_time": "2023-01-06T16:36:02.187294",
     "status": "completed"
    },
    "tags": []
   },
   "source": [
    "# **Step 4.A. Univariate Analysis**\n",
    "\n",
    "---\n",
    "\n",
    "\n",
    "\n",
    "1.   Item Fat Content\n",
    "\n"
   ]
  },
  {
   "cell_type": "code",
   "execution_count": 33,
   "id": "d26dd73f",
   "metadata": {
    "execution": {
     "iopub.execute_input": "2023-01-06T16:36:02.273522Z",
     "iopub.status.busy": "2023-01-06T16:36:02.272801Z",
     "iopub.status.idle": "2023-01-06T16:36:02.485258Z",
     "shell.execute_reply": "2023-01-06T16:36:02.484471Z"
    },
    "id": "LP1lF2eIotVD",
    "outputId": "aca127dd-a126-46b8-b618-25226f7563a9",
    "papermill": {
     "duration": 0.244857,
     "end_time": "2023-01-06T16:36:02.487922",
     "exception": false,
     "start_time": "2023-01-06T16:36:02.243065",
     "status": "completed"
    },
    "tags": []
   },
   "outputs": [
    {
     "name": "stderr",
     "output_type": "stream",
     "text": [
      "/opt/conda/lib/python3.7/site-packages/seaborn/_decorators.py:43: FutureWarning: Pass the following variable as a keyword arg: x. From version 0.12, the only valid positional argument will be `data`, and passing other arguments without an explicit keyword will result in an error or misinterpretation.\n",
      "  FutureWarning\n"
     ]
    },
    {
     "data": {
      "text/plain": [
       "<AxesSubplot:xlabel='Item_Fat_Content', ylabel='count'>"
      ]
     },
     "execution_count": 33,
     "metadata": {},
     "output_type": "execute_result"
    },
    {
     "data": {
      "image/png": "[encoded data removed]",
      "text/plain": [
       "<Figure size 576x360 with 1 Axes>"
      ]
     },
     "metadata": {
      "needs_background": "light"
     },
     "output_type": "display_data"
    }
   ],
   "source": [
    "plt.figure(figsize=(8,5))\n",
    "sns.countplot('Item_Fat_Content',data=train,palette='ocean')"
   ]
  },
  {
   "cell_type": "markdown",
   "id": "31c89f3a",
   "metadata": {
    "id": "AiIrf2v1o3T2",
    "papermill": {
     "duration": 0.028058,
     "end_time": "2023-01-06T16:36:02.544519",
     "exception": false,
     "start_time": "2023-01-06T16:36:02.516461",
     "status": "completed"
    },
    "tags": []
   },
   "source": [
    "**Observations:**\n",
    "The Items bought are more of Low Fat."
   ]
  },
  {
   "cell_type": "markdown",
   "id": "eeefaff0",
   "metadata": {
    "id": "VlnNQ0Lgo6zP",
    "papermill": {
     "duration": 0.027974,
     "end_time": "2023-01-06T16:36:02.601553",
     "exception": false,
     "start_time": "2023-01-06T16:36:02.573579",
     "status": "completed"
    },
    "tags": []
   },
   "source": [
    "2) Item Type"
   ]
  },
  {
   "cell_type": "code",
   "execution_count": 34,
   "id": "58b83410",
   "metadata": {
    "execution": {
     "iopub.execute_input": "2023-01-06T16:36:02.659953Z",
     "iopub.status.busy": "2023-01-06T16:36:02.659515Z",
     "iopub.status.idle": "2023-01-06T16:36:03.069263Z",
     "shell.execute_reply": "2023-01-06T16:36:03.067936Z"
    },
    "id": "6N7ifTK3o91p",
    "outputId": "cbf34966-610c-4b35-8c73-6e24038c3a92",
    "papermill": {
     "duration": 0.44258,
     "end_time": "2023-01-06T16:36:03.072297",
     "exception": false,
     "start_time": "2023-01-06T16:36:02.629717",
     "status": "completed"
    },
    "tags": []
   },
   "outputs": [
    {
     "name": "stderr",
     "output_type": "stream",
     "text": [
      "/opt/conda/lib/python3.7/site-packages/seaborn/_decorators.py:43: FutureWarning: Pass the following variable as a keyword arg: x. From version 0.12, the only valid positional argument will be `data`, and passing other arguments without an explicit keyword will result in an error or misinterpretation.\n",
      "  FutureWarning\n"
     ]
    },
    {
     "data": {
      "text/plain": [
       "<AxesSubplot:xlabel='Item_Type', ylabel='count'>"
      ]
     },
     "execution_count": 34,
     "metadata": {},
     "output_type": "execute_result"
    },
    {
     "data": {
      "image/png": "[encoded data removed]",
      "text/plain": [
       "<Figure size 1800x504 with 1 Axes>"
      ]
     },
     "metadata": {
      "needs_background": "light"
     },
     "output_type": "display_data"
    }
   ],
   "source": [
    "plt.figure(figsize=(25,7))\n",
    "sns.countplot('Item_Type',data=train,palette='spring')"
   ]
  },
  {
   "cell_type": "markdown",
   "id": "3b452a15",
   "metadata": {
    "id": "n2NkuO1ipBda",
    "papermill": {
     "duration": 0.02945,
     "end_time": "2023-01-06T16:36:03.133940",
     "exception": false,
     "start_time": "2023-01-06T16:36:03.104490",
     "status": "completed"
    },
    "tags": []
   },
   "source": [
    "Observations:\n",
    "\n",
    "> Fruits and Vegetables are largely sold as people tend to use them on daily purpose.\n",
    "\n",
    "> Snack Foods too have good sales.\n",
    "\n",
    "---\n",
    "\n",
    "\n",
    "\n",
    "3) Outlet Size\n",
    "\n",
    "\n"
   ]
  },
  {
   "cell_type": "code",
   "execution_count": 35,
   "id": "4c8c95ac",
   "metadata": {
    "execution": {
     "iopub.execute_input": "2023-01-06T16:36:03.211855Z",
     "iopub.status.busy": "2023-01-06T16:36:03.211035Z",
     "iopub.status.idle": "2023-01-06T16:36:03.441441Z",
     "shell.execute_reply": "2023-01-06T16:36:03.440310Z"
    },
    "id": "eWKGbipapS8-",
    "outputId": "d37a3160-b34e-4b13-adf0-fa016aad9847",
    "papermill": {
     "duration": 0.27808,
     "end_time": "2023-01-06T16:36:03.443956",
     "exception": false,
     "start_time": "2023-01-06T16:36:03.165876",
     "status": "completed"
    },
    "tags": []
   },
   "outputs": [
    {
     "name": "stderr",
     "output_type": "stream",
     "text": [
      "/opt/conda/lib/python3.7/site-packages/seaborn/_decorators.py:43: FutureWarning: Pass the following variable as a keyword arg: x. From version 0.12, the only valid positional argument will be `data`, and passing other arguments without an explicit keyword will result in an error or misinterpretation.\n",
      "  FutureWarning\n"
     ]
    },
    {
     "data": {
      "text/plain": [
       "<AxesSubplot:xlabel='Outlet_Size', ylabel='count'>"
      ]
     },
     "execution_count": 35,
     "metadata": {},
     "output_type": "execute_result"
    },
    {
     "data": {
      "image/png": "[encoded data removed]",
      "text/plain": [
       "<Figure size 576x360 with 1 Axes>"
      ]
     },
     "metadata": {
      "needs_background": "light"
     },
     "output_type": "display_data"
    }
   ],
   "source": [
    "plt.figure(figsize=(8,5))\n",
    "sns.countplot('Outlet_Size',data=train,palette='summer')"
   ]
  },
  {
   "cell_type": "markdown",
   "id": "7512a994",
   "metadata": {
    "id": "ni6fu0ZQpWmm",
    "papermill": {
     "duration": 0.030874,
     "end_time": "2023-01-06T16:36:03.504747",
     "exception": false,
     "start_time": "2023-01-06T16:36:03.473873",
     "status": "completed"
    },
    "tags": []
   },
   "source": [
    "Observations:\n",
    "The Outlets are more of Medium Size\n",
    "\n",
    "---\n",
    "\n",
    "4) Outlet Location Type"
   ]
  },
  {
   "cell_type": "code",
   "execution_count": 36,
   "id": "f66dab86",
   "metadata": {
    "execution": {
     "iopub.execute_input": "2023-01-06T16:36:03.570300Z",
     "iopub.status.busy": "2023-01-06T16:36:03.569337Z",
     "iopub.status.idle": "2023-01-06T16:36:03.805280Z",
     "shell.execute_reply": "2023-01-06T16:36:03.804170Z"
    },
    "id": "RtRtn3N3pT5_",
    "outputId": "9d093e49-6591-4780-a724-539d4f39c492",
    "papermill": {
     "duration": 0.273005,
     "end_time": "2023-01-06T16:36:03.807707",
     "exception": false,
     "start_time": "2023-01-06T16:36:03.534702",
     "status": "completed"
    },
    "tags": []
   },
   "outputs": [
    {
     "name": "stderr",
     "output_type": "stream",
     "text": [
      "/opt/conda/lib/python3.7/site-packages/seaborn/_decorators.py:43: FutureWarning: Pass the following variable as a keyword arg: x. From version 0.12, the only valid positional argument will be `data`, and passing other arguments without an explicit keyword will result in an error or misinterpretation.\n",
      "  FutureWarning\n"
     ]
    },
    {
     "data": {
      "text/plain": [
       "<AxesSubplot:xlabel='Outlet_Location_Type', ylabel='count'>"
      ]
     },
     "execution_count": 36,
     "metadata": {},
     "output_type": "execute_result"
    },
    {
     "data": {
      "image/png": "[encoded data removed]",
      "text/plain": [
       "<Figure size 576x360 with 1 Axes>"
      ]
     },
     "metadata": {
      "needs_background": "light"
     },
     "output_type": "display_data"
    }
   ],
   "source": [
    "plt.figure(figsize=(8,5))\n",
    "sns.countplot('Outlet_Location_Type',data=train,palette='autumn')"
   ]
  },
  {
   "cell_type": "markdown",
   "id": "aa9ff633",
   "metadata": {
    "id": "l1qhO_-rpdJg",
    "papermill": {
     "duration": 0.028977,
     "end_time": "2023-01-06T16:36:03.866200",
     "exception": false,
     "start_time": "2023-01-06T16:36:03.837223",
     "status": "completed"
    },
    "tags": []
   },
   "source": [
    "Observations:\n",
    "The Outlets are maximum in number in Tier 3 Cities.\n",
    "\n",
    "---\n",
    "5) Outlet Type\n"
   ]
  },
  {
   "cell_type": "code",
   "execution_count": 37,
   "id": "b312157a",
   "metadata": {
    "execution": {
     "iopub.execute_input": "2023-01-06T16:36:03.926475Z",
     "iopub.status.busy": "2023-01-06T16:36:03.926051Z",
     "iopub.status.idle": "2023-01-06T16:36:04.164993Z",
     "shell.execute_reply": "2023-01-06T16:36:04.163761Z"
    },
    "id": "noALxqB4pizQ",
    "outputId": "d5be8d6b-8293-4246-d880-ba206ccc9834",
    "papermill": {
     "duration": 0.272181,
     "end_time": "2023-01-06T16:36:04.167672",
     "exception": false,
     "start_time": "2023-01-06T16:36:03.895491",
     "status": "completed"
    },
    "tags": []
   },
   "outputs": [
    {
     "name": "stderr",
     "output_type": "stream",
     "text": [
      "/opt/conda/lib/python3.7/site-packages/seaborn/_decorators.py:43: FutureWarning: Pass the following variable as a keyword arg: x. From version 0.12, the only valid positional argument will be `data`, and passing other arguments without an explicit keyword will result in an error or misinterpretation.\n",
      "  FutureWarning\n"
     ]
    },
    {
     "data": {
      "text/plain": [
       "<AxesSubplot:xlabel='Outlet_Type', ylabel='count'>"
      ]
     },
     "execution_count": 37,
     "metadata": {},
     "output_type": "execute_result"
    },
    {
     "data": {
      "image/png": "[encoded data removed]",
      "text/plain": [
       "<Figure size 576x360 with 1 Axes>"
      ]
     },
     "metadata": {
      "needs_background": "light"
     },
     "output_type": "display_data"
    }
   ],
   "source": [
    "plt.figure(figsize=(8,5))\n",
    "sns.countplot('Outlet_Type',data=train,palette='twilight')"
   ]
  },
  {
   "cell_type": "markdown",
   "id": "d1c31059",
   "metadata": {
    "id": "uNFc2UXWpmQm",
    "papermill": {
     "duration": 0.029873,
     "end_time": "2023-01-06T16:36:04.228859",
     "exception": false,
     "start_time": "2023-01-06T16:36:04.198986",
     "status": "completed"
    },
    "tags": []
   },
   "source": [
    "Observations:\n",
    "The Outlets are more of Supermarket Type1."
   ]
  },
  {
   "cell_type": "code",
   "execution_count": 38,
   "id": "33f03e31",
   "metadata": {
    "execution": {
     "iopub.execute_input": "2023-01-06T16:36:04.291764Z",
     "iopub.status.busy": "2023-01-06T16:36:04.291067Z",
     "iopub.status.idle": "2023-01-06T16:36:04.580897Z",
     "shell.execute_reply": "2023-01-06T16:36:04.579506Z"
    },
    "id": "kM-RcH23pnUr",
    "outputId": "72a387d3-b663-4a82-a836-f723bdbe872e",
    "papermill": {
     "duration": 0.323923,
     "end_time": "2023-01-06T16:36:04.583443",
     "exception": false,
     "start_time": "2023-01-06T16:36:04.259520",
     "status": "completed"
    },
    "tags": []
   },
   "outputs": [
    {
     "name": "stderr",
     "output_type": "stream",
     "text": [
      "/opt/conda/lib/python3.7/site-packages/seaborn/_decorators.py:43: FutureWarning: Pass the following variable as a keyword arg: x. From version 0.12, the only valid positional argument will be `data`, and passing other arguments without an explicit keyword will result in an error or misinterpretation.\n",
      "  FutureWarning\n"
     ]
    },
    {
     "data": {
      "text/plain": [
       "<AxesSubplot:xlabel='Years_Established', ylabel='count'>"
      ]
     },
     "execution_count": 38,
     "metadata": {},
     "output_type": "execute_result"
    },
    {
     "data": {
      "image/png": "[encoded data removed]",
      "text/plain": [
       "<Figure size 576x360 with 1 Axes>"
      ]
     },
     "metadata": {
      "needs_background": "light"
     },
     "output_type": "display_data"
    }
   ],
   "source": [
    "plt.figure(figsize=(8,5))\n",
    "sns.countplot('Years_Established',data=train,palette='mako')"
   ]
  },
  {
   "cell_type": "markdown",
   "id": "54d56d6c",
   "metadata": {
    "id": "-YwTEqOoprym",
    "papermill": {
     "duration": 0.030275,
     "end_time": "2023-01-06T16:36:04.645024",
     "exception": false,
     "start_time": "2023-01-06T16:36:04.614749",
     "status": "completed"
    },
    "tags": []
   },
   "source": []
  },
  {
   "cell_type": "markdown",
   "id": "7e47960b",
   "metadata": {
    "id": "oWZ2--D3pr9v",
    "papermill": {
     "duration": 0.030419,
     "end_time": "2023-01-06T16:36:04.706323",
     "exception": false,
     "start_time": "2023-01-06T16:36:04.675904",
     "status": "completed"
    },
    "tags": []
   },
   "source": [
    "Observations:\n",
    "The Outlets are more of established and running from 35 years."
   ]
  },
  {
   "cell_type": "markdown",
   "id": "b7a33b5c",
   "metadata": {
    "id": "bOEptwGhpt2C",
    "papermill": {
     "duration": 0.030283,
     "end_time": "2023-01-06T16:36:04.767170",
     "exception": false,
     "start_time": "2023-01-06T16:36:04.736887",
     "status": "completed"
    },
    "tags": []
   },
   "source": [
    "# **Step 4.B Bivariate Analysis**\n",
    "\n",
    "---\n",
    "\n"
   ]
  },
  {
   "cell_type": "code",
   "execution_count": 39,
   "id": "350d54dc",
   "metadata": {
    "execution": {
     "iopub.execute_input": "2023-01-06T16:36:04.830580Z",
     "iopub.status.busy": "2023-01-06T16:36:04.829690Z",
     "iopub.status.idle": "2023-01-06T16:36:04.837163Z",
     "shell.execute_reply": "2023-01-06T16:36:04.836066Z"
    },
    "id": "apg_ulbmps2b",
    "outputId": "27c10b34-31a6-4b17-c298-e98b266a838c",
    "papermill": {
     "duration": 0.041476,
     "end_time": "2023-01-06T16:36:04.839264",
     "exception": false,
     "start_time": "2023-01-06T16:36:04.797788",
     "status": "completed"
    },
    "tags": []
   },
   "outputs": [
    {
     "data": {
      "text/plain": [
       "Index(['Item_Identifier', 'Item_Weight', 'Item_Fat_Content', 'Item_Visibility',\n",
       "       'Item_Type', 'Item_MRP', 'Outlet_Identifier',\n",
       "       'Outlet_Establishment_Year', 'Outlet_Size', 'Outlet_Location_Type',\n",
       "       'Outlet_Type', 'Item_Outlet_Sales', 'Years_Established'],\n",
       "      dtype='object')"
      ]
     },
     "execution_count": 39,
     "metadata": {},
     "output_type": "execute_result"
    }
   ],
   "source": [
    "train.columns"
   ]
  },
  {
   "cell_type": "markdown",
   "id": "945b8de4",
   "metadata": {
    "id": "xmHooJfep0Is",
    "papermill": {
     "duration": 0.029944,
     "end_time": "2023-01-06T16:36:04.899840",
     "exception": false,
     "start_time": "2023-01-06T16:36:04.869896",
     "status": "completed"
    },
    "tags": []
   },
   "source": [
    "1) Item Fat Content"
   ]
  },
  {
   "cell_type": "code",
   "execution_count": 40,
   "id": "d38f22ac",
   "metadata": {
    "execution": {
     "iopub.execute_input": "2023-01-06T16:36:04.962943Z",
     "iopub.status.busy": "2023-01-06T16:36:04.962129Z",
     "iopub.status.idle": "2023-01-06T16:36:05.310529Z",
     "shell.execute_reply": "2023-01-06T16:36:05.309493Z"
    },
    "id": "DxtgRs7Dp0_W",
    "outputId": "7846b908-b08f-4789-d1eb-95c12d82aee4",
    "papermill": {
     "duration": 0.383023,
     "end_time": "2023-01-06T16:36:05.313123",
     "exception": false,
     "start_time": "2023-01-06T16:36:04.930100",
     "status": "completed"
    },
    "tags": []
   },
   "outputs": [
    {
     "name": "stderr",
     "output_type": "stream",
     "text": [
      "/opt/conda/lib/python3.7/site-packages/seaborn/_decorators.py:43: FutureWarning: Pass the following variables as keyword args: x, y. From version 0.12, the only valid positional argument will be `data`, and passing other arguments without an explicit keyword will result in an error or misinterpretation.\n",
      "  FutureWarning\n"
     ]
    },
    {
     "data": {
      "text/plain": [
       "<AxesSubplot:xlabel='Item_Fat_Content', ylabel='Item_Outlet_Sales'>"
      ]
     },
     "execution_count": 40,
     "metadata": {},
     "output_type": "execute_result"
    },
    {
     "data": {
      "image/png": "[encoded data removed]",
      "text/plain": [
       "<Figure size 576x360 with 1 Axes>"
      ]
     },
     "metadata": {
      "needs_background": "light"
     },
     "output_type": "display_data"
    }
   ],
   "source": [
    "plt.figure(figsize=(8,5))\n",
    "sns.barplot('Item_Fat_Content','Item_Outlet_Sales',data=train,palette='mako')"
   ]
  },
  {
   "cell_type": "markdown",
   "id": "6e2263a8",
   "metadata": {
    "id": "4leaPZcVp4df",
    "papermill": {
     "duration": 0.030972,
     "end_time": "2023-01-06T16:36:05.376132",
     "exception": false,
     "start_time": "2023-01-06T16:36:05.345160",
     "status": "completed"
    },
    "tags": []
   },
   "source": [
    "Observations:\n",
    "The Item Outles sales are high for both Low Fat and Regular Item types."
   ]
  },
  {
   "cell_type": "markdown",
   "id": "95e0816e",
   "metadata": {
    "id": "1-G1WvBAp6zI",
    "papermill": {
     "duration": 0.030791,
     "end_time": "2023-01-06T16:36:05.438245",
     "exception": false,
     "start_time": "2023-01-06T16:36:05.407454",
     "status": "completed"
    },
    "tags": []
   },
   "source": [
    "2) Item Visibility"
   ]
  },
  {
   "cell_type": "code",
   "execution_count": 41,
   "id": "ea2b8bb8",
   "metadata": {
    "execution": {
     "iopub.execute_input": "2023-01-06T16:36:05.502221Z",
     "iopub.status.busy": "2023-01-06T16:36:05.501832Z",
     "iopub.status.idle": "2023-01-06T16:36:05.829567Z",
     "shell.execute_reply": "2023-01-06T16:36:05.828470Z"
    },
    "id": "KwBsQBPvp5M7",
    "outputId": "223ef01c-9577-4528-9579-9fcd5b619537",
    "papermill": {
     "duration": 0.362505,
     "end_time": "2023-01-06T16:36:05.831743",
     "exception": false,
     "start_time": "2023-01-06T16:36:05.469238",
     "status": "completed"
    },
    "tags": []
   },
   "outputs": [
    {
     "data": {
      "text/plain": [
       "<matplotlib.collections.PathCollection at 0x7f4d15a59c90>"
      ]
     },
     "execution_count": 41,
     "metadata": {},
     "output_type": "execute_result"
    },
    {
     "data": {
      "image/png": "[encoded data removed]",
      "text/plain": [
       "<Figure size 576x360 with 1 Axes>"
      ]
     },
     "metadata": {
      "needs_background": "light"
     },
     "output_type": "display_data"
    }
   ],
   "source": [
    "plt.figure(figsize=(8,5))\n",
    "plt.scatter('Item_Visibility','Item_Outlet_Sales',data=train)"
   ]
  },
  {
   "cell_type": "markdown",
   "id": "37223e40",
   "metadata": {
    "id": "w4db0PkGp-9M",
    "papermill": {
     "duration": 0.031119,
     "end_time": "2023-01-06T16:36:05.894639",
     "exception": false,
     "start_time": "2023-01-06T16:36:05.863520",
     "status": "completed"
    },
    "tags": []
   },
   "source": [
    "Observations:\n",
    "Item_Visibility has a minimum value of zero. This makes no practical sense because when a product is being sold in a store, the visibility cannot be 0."
   ]
  },
  {
   "cell_type": "markdown",
   "id": "766d6e7a",
   "metadata": {
    "id": "eNRke27KqCOQ",
    "papermill": {
     "duration": 0.031297,
     "end_time": "2023-01-06T16:36:05.957250",
     "exception": false,
     "start_time": "2023-01-06T16:36:05.925953",
     "status": "completed"
    },
    "tags": []
   },
   "source": [
    "Lets consider it like missing information and impute it with mean visibility of that product."
   ]
  },
  {
   "cell_type": "code",
   "execution_count": 42,
   "id": "9bbf988c",
   "metadata": {
    "execution": {
     "iopub.execute_input": "2023-01-06T16:36:06.023333Z",
     "iopub.status.busy": "2023-01-06T16:36:06.022947Z",
     "iopub.status.idle": "2023-01-06T16:36:06.031211Z",
     "shell.execute_reply": "2023-01-06T16:36:06.029980Z"
    },
    "id": "QwDurX_PqAsq",
    "papermill": {
     "duration": 0.043796,
     "end_time": "2023-01-06T16:36:06.033432",
     "exception": false,
     "start_time": "2023-01-06T16:36:05.989636",
     "status": "completed"
    },
    "tags": []
   },
   "outputs": [],
   "source": [
    "train['Item_Visibility']=train['Item_Visibility'].replace(0,train['Item_Visibility'].mean())\n",
    "test['Item_Visibility']=test['Item_Visibility'].replace(0,test['Item_Visibility'].mean())"
   ]
  },
  {
   "cell_type": "code",
   "execution_count": 43,
   "id": "a540918c",
   "metadata": {
    "execution": {
     "iopub.execute_input": "2023-01-06T16:36:06.099566Z",
     "iopub.status.busy": "2023-01-06T16:36:06.099158Z",
     "iopub.status.idle": "2023-01-06T16:36:06.426688Z",
     "shell.execute_reply": "2023-01-06T16:36:06.425485Z"
    },
    "id": "E1zN3a_xqGjX",
    "outputId": "d44822c1-7650-4852-a5f3-0a3d6b7c1a39",
    "papermill": {
     "duration": 0.36375,
     "end_time": "2023-01-06T16:36:06.429041",
     "exception": false,
     "start_time": "2023-01-06T16:36:06.065291",
     "status": "completed"
    },
    "tags": []
   },
   "outputs": [
    {
     "data": {
      "text/plain": [
       "Text(0, 0.5, 'Item Visibility')"
      ]
     },
     "execution_count": 43,
     "metadata": {},
     "output_type": "execute_result"
    },
    {
     "data": {
      "image/png": "[encoded data removed]",
      "text/plain": [
       "<Figure size 576x360 with 1 Axes>"
      ]
     },
     "metadata": {
      "needs_background": "light"
     },
     "output_type": "display_data"
    }
   ],
   "source": [
    "plt.figure(figsize=(8,5))\n",
    "plt.scatter(y='Item_Visibility',x='Item_Outlet_Sales',data=train)\n",
    "plt.xlabel('Item Outlet Sales')\n",
    "plt.ylabel('Item Visibility')"
   ]
  },
  {
   "cell_type": "markdown",
   "id": "d5c1587d",
   "metadata": {
    "id": "RkWMTi1PqK8g",
    "papermill": {
     "duration": 0.032219,
     "end_time": "2023-01-06T16:36:06.493965",
     "exception": false,
     "start_time": "2023-01-06T16:36:06.461746",
     "status": "completed"
    },
    "tags": []
   },
   "source": [
    "We can see that now visibility is not exactly zero and it has some value indicating that Item is rarely purchased by the customers."
   ]
  },
  {
   "cell_type": "markdown",
   "id": "d0a8ba7e",
   "metadata": {
    "id": "QhiV11ecqLnN",
    "papermill": {
     "duration": 0.032009,
     "end_time": "2023-01-06T16:36:06.559659",
     "exception": false,
     "start_time": "2023-01-06T16:36:06.527650",
     "status": "completed"
    },
    "tags": []
   },
   "source": [
    "3) Item Type"
   ]
  },
  {
   "cell_type": "code",
   "execution_count": 44,
   "id": "e1871adc",
   "metadata": {
    "execution": {
     "iopub.execute_input": "2023-01-06T16:36:06.626399Z",
     "iopub.status.busy": "2023-01-06T16:36:06.625712Z",
     "iopub.status.idle": "2023-01-06T16:36:07.444763Z",
     "shell.execute_reply": "2023-01-06T16:36:07.443561Z"
    },
    "id": "JGkQrSd-qNle",
    "outputId": "3f4f7e96-7633-474d-b75f-731ca8edeb9e",
    "papermill": {
     "duration": 0.855556,
     "end_time": "2023-01-06T16:36:07.447345",
     "exception": false,
     "start_time": "2023-01-06T16:36:06.591789",
     "status": "completed"
    },
    "tags": []
   },
   "outputs": [
    {
     "data": {
      "text/plain": [
       "<AxesSubplot:xlabel='Item_Outlet_Sales', ylabel='Item_Type'>"
      ]
     },
     "execution_count": 44,
     "metadata": {},
     "output_type": "execute_result"
    },
    {
     "data": {
      "image/png": "[encoded data removed]",
      "text/plain": [
       "<Figure size 720x576 with 1 Axes>"
      ]
     },
     "metadata": {
      "needs_background": "light"
     },
     "output_type": "display_data"
    }
   ],
   "source": [
    "plt.figure(figsize=(10,8))\n",
    "sns.barplot(y='Item_Type',x='Item_Outlet_Sales',data=train,palette='flag')"
   ]
  },
  {
   "cell_type": "markdown",
   "id": "806e6205",
   "metadata": {
    "id": "4ZvL5xo2qRGS",
    "papermill": {
     "duration": 0.038128,
     "end_time": "2023-01-06T16:36:07.519949",
     "exception": false,
     "start_time": "2023-01-06T16:36:07.481821",
     "status": "completed"
    },
    "tags": []
   },
   "source": [
    "Observations:\n",
    "The products available were Fruits-Veggies and Snack Foods but the sales of Seafood and Starchy Foods seems higher and hence the sales can be improved with having stock of products that are most bought by customers."
   ]
  },
  {
   "cell_type": "code",
   "execution_count": 45,
   "id": "7e3caf49",
   "metadata": {
    "execution": {
     "iopub.execute_input": "2023-01-06T16:36:07.589463Z",
     "iopub.status.busy": "2023-01-06T16:36:07.588750Z",
     "iopub.status.idle": "2023-01-06T16:36:07.909141Z",
     "shell.execute_reply": "2023-01-06T16:36:07.908269Z"
    },
    "id": "tyaCsPfzqSif",
    "outputId": "89c9d06b-017e-436e-c96d-e1be8ac72ba9",
    "papermill": {
     "duration": 0.35773,
     "end_time": "2023-01-06T16:36:07.911282",
     "exception": false,
     "start_time": "2023-01-06T16:36:07.553552",
     "status": "completed"
    },
    "tags": []
   },
   "outputs": [
    {
     "data": {
      "text/plain": [
       "Text(0, 0.5, 'Item Outlet Sales')"
      ]
     },
     "execution_count": 45,
     "metadata": {},
     "output_type": "execute_result"
    },
    {
     "data": {
      "image/png": "[encoded data removed]",
      "text/plain": [
       "<Figure size 576x360 with 1 Axes>"
      ]
     },
     "metadata": {
      "needs_background": "light"
     },
     "output_type": "display_data"
    }
   ],
   "source": [
    "plt.figure(figsize=(8,5))\n",
    "plt.scatter(y='Item_Outlet_Sales',x='Item_MRP',data=train)\n",
    "plt.xlabel('Item MRP')\n",
    "plt.ylabel('Item Outlet Sales')"
   ]
  },
  {
   "cell_type": "markdown",
   "id": "fb3573e5",
   "metadata": {
    "id": "IM25ewpBqWUR",
    "papermill": {
     "duration": 0.033053,
     "end_time": "2023-01-06T16:36:07.978323",
     "exception": false,
     "start_time": "2023-01-06T16:36:07.945270",
     "status": "completed"
    },
    "tags": []
   },
   "source": [
    "Observations:\n",
    "Items MRP ranging from 200-250 dollars is having high Sales."
   ]
  },
  {
   "cell_type": "code",
   "execution_count": 46,
   "id": "edba8de9",
   "metadata": {
    "execution": {
     "iopub.execute_input": "2023-01-06T16:36:08.048946Z",
     "iopub.status.busy": "2023-01-06T16:36:08.047845Z",
     "iopub.status.idle": "2023-01-06T16:36:08.459151Z",
     "shell.execute_reply": "2023-01-06T16:36:08.458067Z"
    },
    "id": "jdTuW_Q6qXFs",
    "outputId": "8a18b411-2e78-4287-d108-0d2245f1aa1a",
    "papermill": {
     "duration": 0.449171,
     "end_time": "2023-01-06T16:36:08.461417",
     "exception": false,
     "start_time": "2023-01-06T16:36:08.012246",
     "status": "completed"
    },
    "tags": []
   },
   "outputs": [
    {
     "data": {
      "text/plain": [
       "<AxesSubplot:xlabel='Outlet_Size', ylabel='Item_Outlet_Sales'>"
      ]
     },
     "execution_count": 46,
     "metadata": {},
     "output_type": "execute_result"
    },
    {
     "data": {
      "image/png": "[encoded data removed]",
      "text/plain": [
       "<Figure size 576x360 with 1 Axes>"
      ]
     },
     "metadata": {
      "needs_background": "light"
     },
     "output_type": "display_data"
    }
   ],
   "source": [
    "plt.figure(figsize=(8,5))\n",
    "sns.barplot(x='Outlet_Size',y='Item_Outlet_Sales',data=train,palette='winter')"
   ]
  },
  {
   "cell_type": "markdown",
   "id": "5bcd6385",
   "metadata": {
    "id": "dxgY7gfJqaux",
    "papermill": {
     "duration": 0.033985,
     "end_time": "2023-01-06T16:36:08.529910",
     "exception": false,
     "start_time": "2023-01-06T16:36:08.495925",
     "status": "completed"
    },
    "tags": []
   },
   "source": [
    "Observations:\n",
    "*   The Outlet Sales is maximum for Medium and High sized Outlets.\n",
    "*   The Outlets we have is Medium and may be with High size Outlets can improve the Outlet Sales."
   ]
  },
  {
   "cell_type": "code",
   "execution_count": 47,
   "id": "928ea7d4",
   "metadata": {
    "execution": {
     "iopub.execute_input": "2023-01-06T16:36:08.600206Z",
     "iopub.status.busy": "2023-01-06T16:36:08.599821Z",
     "iopub.status.idle": "2023-01-06T16:36:09.103524Z",
     "shell.execute_reply": "2023-01-06T16:36:09.102173Z"
    },
    "id": "Ioe0uXMlqgjL",
    "outputId": "9eb97af8-1bda-4635-c436-1ee815055a27",
    "papermill": {
     "duration": 0.542075,
     "end_time": "2023-01-06T16:36:09.106046",
     "exception": false,
     "start_time": "2023-01-06T16:36:08.563971",
     "status": "completed"
    },
    "tags": []
   },
   "outputs": [
    {
     "data": {
      "text/plain": [
       "<AxesSubplot:xlabel='Outlet_Location_Type', ylabel='Item_Outlet_Sales'>"
      ]
     },
     "execution_count": 47,
     "metadata": {},
     "output_type": "execute_result"
    },
    {
     "data": {
      "image/png": "[encoded data removed]",
      "text/plain": [
       "<Figure size 576x360 with 1 Axes>"
      ]
     },
     "metadata": {
      "needs_background": "light"
     },
     "output_type": "display_data"
    }
   ],
   "source": [
    "plt.figure(figsize=(8,5))\n",
    "sns.barplot(x='Outlet_Location_Type',y='Item_Outlet_Sales',data=train,palette='plasma')"
   ]
  },
  {
   "cell_type": "markdown",
   "id": "3ee88377",
   "metadata": {
    "id": "fgIXqpdgqzej",
    "papermill": {
     "duration": 0.03455,
     "end_time": "2023-01-06T16:36:09.176170",
     "exception": false,
     "start_time": "2023-01-06T16:36:09.141620",
     "status": "completed"
    },
    "tags": []
   },
   "source": [
    "Observations:\n",
    "The Outlet Sales tend to be high for Tier3 and Tier 2 location types but we have only Tier3 locations maximum Outlets."
   ]
  },
  {
   "cell_type": "code",
   "execution_count": 48,
   "id": "e8fc0ead",
   "metadata": {
    "execution": {
     "iopub.execute_input": "2023-01-06T16:36:09.247464Z",
     "iopub.status.busy": "2023-01-06T16:36:09.246276Z",
     "iopub.status.idle": "2023-01-06T16:36:09.834740Z",
     "shell.execute_reply": "2023-01-06T16:36:09.833581Z"
    },
    "id": "Y4C2H99Iq2YL",
    "outputId": "af3bb98e-c529-4cf6-ef2a-a8e6b1b0371a",
    "papermill": {
     "duration": 0.626899,
     "end_time": "2023-01-06T16:36:09.837516",
     "exception": false,
     "start_time": "2023-01-06T16:36:09.210617",
     "status": "completed"
    },
    "tags": []
   },
   "outputs": [
    {
     "data": {
      "text/plain": [
       "<AxesSubplot:xlabel='Years_Established', ylabel='Item_Outlet_Sales'>"
      ]
     },
     "execution_count": 48,
     "metadata": {},
     "output_type": "execute_result"
    },
    {
     "data": {
      "image/png": "[encoded data removed]",
      "text/plain": [
       "<Figure size 576x360 with 1 Axes>"
      ]
     },
     "metadata": {
      "needs_background": "light"
     },
     "output_type": "display_data"
    }
   ],
   "source": [
    "plt.figure(figsize=(8,5))\n",
    "sns.barplot(x='Years_Established',y='Item_Outlet_Sales',data=train,palette='viridis')"
   ]
  },
  {
   "cell_type": "markdown",
   "id": "603aeff8",
   "metadata": {
    "id": "Q3hDjq1rq7X9",
    "papermill": {
     "duration": 0.035173,
     "end_time": "2023-01-06T16:36:09.908606",
     "exception": false,
     "start_time": "2023-01-06T16:36:09.873433",
     "status": "completed"
    },
    "tags": []
   },
   "source": [
    "# **Observations:¶**\n",
    "*    It is quiet evident that Outlets established 35 years before is having good Sales margin.\n",
    "*We also have a outlet which was established before 22 years has the lowest sales margin, so established years wouldn't improve the Sales unless the products are sold according to customer's interest.\n",
    "\n",
    "---\n",
    "\n"
   ]
  },
  {
   "cell_type": "markdown",
   "id": "99214604",
   "metadata": {
    "id": "2ptthiACrHTs",
    "papermill": {
     "duration": 0.03562,
     "end_time": "2023-01-06T16:36:09.979778",
     "exception": false,
     "start_time": "2023-01-06T16:36:09.944158",
     "status": "completed"
    },
    "tags": []
   },
   "source": [
    "# **Step 4.C Multivariate Analysis**"
   ]
  },
  {
   "cell_type": "code",
   "execution_count": 49,
   "id": "788fc072",
   "metadata": {
    "execution": {
     "iopub.execute_input": "2023-01-06T16:36:10.052863Z",
     "iopub.status.busy": "2023-01-06T16:36:10.052431Z",
     "iopub.status.idle": "2023-01-06T16:36:11.289633Z",
     "shell.execute_reply": "2023-01-06T16:36:11.288243Z"
    },
    "id": "_O_BiYWPrKaJ",
    "outputId": "9057a024-61fc-493a-eb15-bd0ace9e4aaa",
    "papermill": {
     "duration": 1.276894,
     "end_time": "2023-01-06T16:36:11.292260",
     "exception": false,
     "start_time": "2023-01-06T16:36:10.015366",
     "status": "completed"
    },
    "tags": []
   },
   "outputs": [
    {
     "name": "stderr",
     "output_type": "stream",
     "text": [
      "/opt/conda/lib/python3.7/site-packages/seaborn/_decorators.py:43: FutureWarning: Pass the following variables as keyword args: x, y. From version 0.12, the only valid positional argument will be `data`, and passing other arguments without an explicit keyword will result in an error or misinterpretation.\n",
      "  FutureWarning\n"
     ]
    },
    {
     "data": {
      "text/plain": [
       "<matplotlib.legend.Legend at 0x7f4d1598e950>"
      ]
     },
     "execution_count": 49,
     "metadata": {},
     "output_type": "execute_result"
    },
    {
     "data": {
      "image/png": "[encoded data removed]",
      "text/plain": [
       "<Figure size 1800x360 with 1 Axes>"
      ]
     },
     "metadata": {
      "needs_background": "light"
     },
     "output_type": "display_data"
    }
   ],
   "source": [
    "plt.figure(figsize=(25,5))\n",
    "sns.barplot('Item_Type','Item_Outlet_Sales',hue='Item_Fat_Content',data=train,palette='mako')\n",
    "plt.legend()"
   ]
  },
  {
   "cell_type": "code",
   "execution_count": 50,
   "id": "f0dbe0ee",
   "metadata": {
    "execution": {
     "iopub.execute_input": "2023-01-06T16:36:11.367443Z",
     "iopub.status.busy": "2023-01-06T16:36:11.367010Z",
     "iopub.status.idle": "2023-01-06T16:36:11.945907Z",
     "shell.execute_reply": "2023-01-06T16:36:11.944575Z"
    },
    "id": "yRyQT065rO_f",
    "outputId": "376479ad-c764-42f9-c768-e10f8c045e21",
    "papermill": {
     "duration": 0.620291,
     "end_time": "2023-01-06T16:36:11.949396",
     "exception": false,
     "start_time": "2023-01-06T16:36:11.329105",
     "status": "completed"
    },
    "tags": []
   },
   "outputs": [
    {
     "name": "stderr",
     "output_type": "stream",
     "text": [
      "/opt/conda/lib/python3.7/site-packages/seaborn/_decorators.py:43: FutureWarning: Pass the following variables as keyword args: x, y. From version 0.12, the only valid positional argument will be `data`, and passing other arguments without an explicit keyword will result in an error or misinterpretation.\n",
      "  FutureWarning\n"
     ]
    },
    {
     "data": {
      "text/plain": [
       "<matplotlib.legend.Legend at 0x7f4d156532d0>"
      ]
     },
     "execution_count": 50,
     "metadata": {},
     "output_type": "execute_result"
    },
    {
     "data": {
      "image/png": "[encoded data removed]",
      "text/plain": [
       "<Figure size 720x360 with 1 Axes>"
      ]
     },
     "metadata": {
      "needs_background": "light"
     },
     "output_type": "display_data"
    }
   ],
   "source": [
    "plt.figure(figsize=(10,5))\n",
    "sns.barplot('Outlet_Location_Type','Item_Outlet_Sales',hue='Outlet_Type',data=train,palette='magma')\n",
    "plt.legend()"
   ]
  },
  {
   "cell_type": "markdown",
   "id": "8b63de9a",
   "metadata": {
    "id": "S3IU0uf-rWRc",
    "papermill": {
     "duration": 0.03689,
     "end_time": "2023-01-06T16:36:12.023115",
     "exception": false,
     "start_time": "2023-01-06T16:36:11.986225",
     "status": "completed"
    },
    "tags": []
   },
   "source": [
    "Observations:\n",
    "The Tier-3 location type has all types of Outlet type and has high sales margin."
   ]
  },
  {
   "cell_type": "markdown",
   "id": "9d88ccd8",
   "metadata": {
    "id": "ndjvcufXrYZn",
    "papermill": {
     "duration": 0.035798,
     "end_time": "2023-01-06T16:36:12.095287",
     "exception": false,
     "start_time": "2023-01-06T16:36:12.059489",
     "status": "completed"
    },
    "tags": []
   },
   "source": [
    "# **Step 5. Feature Engineering**\n",
    "\n",
    "---\n",
    "\n"
   ]
  },
  {
   "cell_type": "code",
   "execution_count": 51,
   "id": "3a953de0",
   "metadata": {
    "execution": {
     "iopub.execute_input": "2023-01-06T16:36:12.171159Z",
     "iopub.status.busy": "2023-01-06T16:36:12.170742Z",
     "iopub.status.idle": "2023-01-06T16:36:12.189679Z",
     "shell.execute_reply": "2023-01-06T16:36:12.188500Z"
    },
    "id": "0oBU1TP8rXsr",
    "outputId": "bc188c6c-5c39-46d0-8a05-41a6001b8209",
    "papermill": {
     "duration": 0.06027,
     "end_time": "2023-01-06T16:36:12.192564",
     "exception": false,
     "start_time": "2023-01-06T16:36:12.132294",
     "status": "completed"
    },
    "tags": []
   },
   "outputs": [
    {
     "data": {
      "text/html": [
       "<div>\n",
       "<style scoped>\n",
       "    .dataframe tbody tr th:only-of-type {\n",
       "        vertical-align: middle;\n",
       "    }\n",
       "\n",
       "    .dataframe tbody tr th {\n",
       "        vertical-align: top;\n",
       "    }\n",
       "\n",
       "    .dataframe thead th {\n",
       "        text-align: right;\n",
       "    }\n",
       "</style>\n",
       "<table border=\"1\" class=\"dataframe\">\n",
       "  <thead>\n",
       "    <tr style=\"text-align: right;\">\n",
       "      <th></th>\n",
       "      <th>Item_Identifier</th>\n",
       "      <th>Item_Weight</th>\n",
       "      <th>Item_Fat_Content</th>\n",
       "      <th>Item_Visibility</th>\n",
       "      <th>Item_Type</th>\n",
       "      <th>Item_MRP</th>\n",
       "      <th>Outlet_Identifier</th>\n",
       "      <th>Outlet_Establishment_Year</th>\n",
       "      <th>Outlet_Size</th>\n",
       "      <th>Outlet_Location_Type</th>\n",
       "      <th>Outlet_Type</th>\n",
       "      <th>Item_Outlet_Sales</th>\n",
       "      <th>Years_Established</th>\n",
       "    </tr>\n",
       "  </thead>\n",
       "  <tbody>\n",
       "    <tr>\n",
       "      <th>0</th>\n",
       "      <td>FDA15</td>\n",
       "      <td>9.30</td>\n",
       "      <td>Low Fat</td>\n",
       "      <td>0.016047</td>\n",
       "      <td>Dairy</td>\n",
       "      <td>249.8092</td>\n",
       "      <td>OUT049</td>\n",
       "      <td>1999</td>\n",
       "      <td>Medium</td>\n",
       "      <td>Tier 1</td>\n",
       "      <td>Supermarket Type1</td>\n",
       "      <td>3735.1380</td>\n",
       "      <td>21</td>\n",
       "    </tr>\n",
       "    <tr>\n",
       "      <th>1</th>\n",
       "      <td>DRC01</td>\n",
       "      <td>5.92</td>\n",
       "      <td>Regular</td>\n",
       "      <td>0.019278</td>\n",
       "      <td>Soft Drinks</td>\n",
       "      <td>48.2692</td>\n",
       "      <td>OUT018</td>\n",
       "      <td>2009</td>\n",
       "      <td>Medium</td>\n",
       "      <td>Tier 3</td>\n",
       "      <td>Supermarket Type2</td>\n",
       "      <td>443.4228</td>\n",
       "      <td>11</td>\n",
       "    </tr>\n",
       "    <tr>\n",
       "      <th>2</th>\n",
       "      <td>FDN15</td>\n",
       "      <td>17.50</td>\n",
       "      <td>Low Fat</td>\n",
       "      <td>0.016760</td>\n",
       "      <td>Meat</td>\n",
       "      <td>141.6180</td>\n",
       "      <td>OUT049</td>\n",
       "      <td>1999</td>\n",
       "      <td>Medium</td>\n",
       "      <td>Tier 1</td>\n",
       "      <td>Supermarket Type1</td>\n",
       "      <td>2097.2700</td>\n",
       "      <td>21</td>\n",
       "    </tr>\n",
       "    <tr>\n",
       "      <th>3</th>\n",
       "      <td>FDX07</td>\n",
       "      <td>19.20</td>\n",
       "      <td>Regular</td>\n",
       "      <td>0.066132</td>\n",
       "      <td>Fruits and Vegetables</td>\n",
       "      <td>182.0950</td>\n",
       "      <td>OUT010</td>\n",
       "      <td>1998</td>\n",
       "      <td>Medium</td>\n",
       "      <td>Tier 3</td>\n",
       "      <td>Grocery Store</td>\n",
       "      <td>732.3800</td>\n",
       "      <td>22</td>\n",
       "    </tr>\n",
       "    <tr>\n",
       "      <th>4</th>\n",
       "      <td>NCD19</td>\n",
       "      <td>8.93</td>\n",
       "      <td>Low Fat</td>\n",
       "      <td>0.066132</td>\n",
       "      <td>Household</td>\n",
       "      <td>53.8614</td>\n",
       "      <td>OUT013</td>\n",
       "      <td>1987</td>\n",
       "      <td>High</td>\n",
       "      <td>Tier 3</td>\n",
       "      <td>Supermarket Type1</td>\n",
       "      <td>994.7052</td>\n",
       "      <td>33</td>\n",
       "    </tr>\n",
       "  </tbody>\n",
       "</table>\n",
       "</div>"
      ],
      "text/plain": [
       "  Item_Identifier  Item_Weight Item_Fat_Content  Item_Visibility  \\\n",
       "0           FDA15         9.30          Low Fat         0.016047   \n",
       "1           DRC01         5.92          Regular         0.019278   \n",
       "2           FDN15        17.50          Low Fat         0.016760   \n",
       "3           FDX07        19.20          Regular         0.066132   \n",
       "4           NCD19         8.93          Low Fat         0.066132   \n",
       "\n",
       "               Item_Type  Item_MRP Outlet_Identifier  \\\n",
       "0                  Dairy  249.8092            OUT049   \n",
       "1            Soft Drinks   48.2692            OUT018   \n",
       "2                   Meat  141.6180            OUT049   \n",
       "3  Fruits and Vegetables  182.0950            OUT010   \n",
       "4              Household   53.8614            OUT013   \n",
       "\n",
       "   Outlet_Establishment_Year Outlet_Size Outlet_Location_Type  \\\n",
       "0                       1999      Medium               Tier 1   \n",
       "1                       2009      Medium               Tier 3   \n",
       "2                       1999      Medium               Tier 1   \n",
       "3                       1998      Medium               Tier 3   \n",
       "4                       1987        High               Tier 3   \n",
       "\n",
       "         Outlet_Type  Item_Outlet_Sales  Years_Established  \n",
       "0  Supermarket Type1          3735.1380                 21  \n",
       "1  Supermarket Type2           443.4228                 11  \n",
       "2  Supermarket Type1          2097.2700                 21  \n",
       "3      Grocery Store           732.3800                 22  \n",
       "4  Supermarket Type1           994.7052                 33  "
      ]
     },
     "execution_count": 51,
     "metadata": {},
     "output_type": "execute_result"
    }
   ],
   "source": [
    "train.head()"
   ]
  },
  {
   "cell_type": "code",
   "execution_count": 52,
   "id": "aaaa2b4f",
   "metadata": {
    "execution": {
     "iopub.execute_input": "2023-01-06T16:36:12.268087Z",
     "iopub.status.busy": "2023-01-06T16:36:12.267703Z",
     "iopub.status.idle": "2023-01-06T16:36:12.296528Z",
     "shell.execute_reply": "2023-01-06T16:36:12.295191Z"
    },
    "id": "J7Fg7Walrj2O",
    "papermill": {
     "duration": 0.069736,
     "end_time": "2023-01-06T16:36:12.299477",
     "exception": false,
     "start_time": "2023-01-06T16:36:12.229741",
     "status": "completed"
    },
    "tags": []
   },
   "outputs": [],
   "source": [
    "le = LabelEncoder()\n",
    "var_mod = ['Item_Fat_Content','Outlet_Location_Type','Outlet_Size','Outlet_Type','Item_Type']\n",
    "\n",
    "for i in var_mod:\n",
    "    train[i] = le.fit_transform(train[i])\n",
    "    \n",
    "for i in var_mod:\n",
    "    test[i] = le.fit_transform(test[i])"
   ]
  },
  {
   "cell_type": "code",
   "execution_count": 53,
   "id": "00cd09e3",
   "metadata": {
    "execution": {
     "iopub.execute_input": "2023-01-06T16:36:12.374321Z",
     "iopub.status.busy": "2023-01-06T16:36:12.373189Z",
     "iopub.status.idle": "2023-01-06T16:36:12.391627Z",
     "shell.execute_reply": "2023-01-06T16:36:12.390453Z"
    },
    "id": "oB2x7bHErniu",
    "outputId": "79bb2130-761c-48db-ec0c-fa77df2a0c81",
    "papermill": {
     "duration": 0.058458,
     "end_time": "2023-01-06T16:36:12.394115",
     "exception": false,
     "start_time": "2023-01-06T16:36:12.335657",
     "status": "completed"
    },
    "tags": []
   },
   "outputs": [
    {
     "data": {
      "text/html": [
       "<div>\n",
       "<style scoped>\n",
       "    .dataframe tbody tr th:only-of-type {\n",
       "        vertical-align: middle;\n",
       "    }\n",
       "\n",
       "    .dataframe tbody tr th {\n",
       "        vertical-align: top;\n",
       "    }\n",
       "\n",
       "    .dataframe thead th {\n",
       "        text-align: right;\n",
       "    }\n",
       "</style>\n",
       "<table border=\"1\" class=\"dataframe\">\n",
       "  <thead>\n",
       "    <tr style=\"text-align: right;\">\n",
       "      <th></th>\n",
       "      <th>Item_Identifier</th>\n",
       "      <th>Item_Weight</th>\n",
       "      <th>Item_Fat_Content</th>\n",
       "      <th>Item_Visibility</th>\n",
       "      <th>Item_Type</th>\n",
       "      <th>Item_MRP</th>\n",
       "      <th>Outlet_Identifier</th>\n",
       "      <th>Outlet_Establishment_Year</th>\n",
       "      <th>Outlet_Size</th>\n",
       "      <th>Outlet_Location_Type</th>\n",
       "      <th>Outlet_Type</th>\n",
       "      <th>Item_Outlet_Sales</th>\n",
       "      <th>Years_Established</th>\n",
       "    </tr>\n",
       "  </thead>\n",
       "  <tbody>\n",
       "    <tr>\n",
       "      <th>0</th>\n",
       "      <td>FDA15</td>\n",
       "      <td>9.30</td>\n",
       "      <td>0</td>\n",
       "      <td>0.016047</td>\n",
       "      <td>4</td>\n",
       "      <td>249.8092</td>\n",
       "      <td>OUT049</td>\n",
       "      <td>1999</td>\n",
       "      <td>1</td>\n",
       "      <td>0</td>\n",
       "      <td>1</td>\n",
       "      <td>3735.1380</td>\n",
       "      <td>21</td>\n",
       "    </tr>\n",
       "    <tr>\n",
       "      <th>1</th>\n",
       "      <td>DRC01</td>\n",
       "      <td>5.92</td>\n",
       "      <td>1</td>\n",
       "      <td>0.019278</td>\n",
       "      <td>14</td>\n",
       "      <td>48.2692</td>\n",
       "      <td>OUT018</td>\n",
       "      <td>2009</td>\n",
       "      <td>1</td>\n",
       "      <td>2</td>\n",
       "      <td>2</td>\n",
       "      <td>443.4228</td>\n",
       "      <td>11</td>\n",
       "    </tr>\n",
       "    <tr>\n",
       "      <th>2</th>\n",
       "      <td>FDN15</td>\n",
       "      <td>17.50</td>\n",
       "      <td>0</td>\n",
       "      <td>0.016760</td>\n",
       "      <td>10</td>\n",
       "      <td>141.6180</td>\n",
       "      <td>OUT049</td>\n",
       "      <td>1999</td>\n",
       "      <td>1</td>\n",
       "      <td>0</td>\n",
       "      <td>1</td>\n",
       "      <td>2097.2700</td>\n",
       "      <td>21</td>\n",
       "    </tr>\n",
       "    <tr>\n",
       "      <th>3</th>\n",
       "      <td>FDX07</td>\n",
       "      <td>19.20</td>\n",
       "      <td>1</td>\n",
       "      <td>0.066132</td>\n",
       "      <td>6</td>\n",
       "      <td>182.0950</td>\n",
       "      <td>OUT010</td>\n",
       "      <td>1998</td>\n",
       "      <td>1</td>\n",
       "      <td>2</td>\n",
       "      <td>0</td>\n",
       "      <td>732.3800</td>\n",
       "      <td>22</td>\n",
       "    </tr>\n",
       "    <tr>\n",
       "      <th>4</th>\n",
       "      <td>NCD19</td>\n",
       "      <td>8.93</td>\n",
       "      <td>0</td>\n",
       "      <td>0.066132</td>\n",
       "      <td>9</td>\n",
       "      <td>53.8614</td>\n",
       "      <td>OUT013</td>\n",
       "      <td>1987</td>\n",
       "      <td>0</td>\n",
       "      <td>2</td>\n",
       "      <td>1</td>\n",
       "      <td>994.7052</td>\n",
       "      <td>33</td>\n",
       "    </tr>\n",
       "  </tbody>\n",
       "</table>\n",
       "</div>"
      ],
      "text/plain": [
       "  Item_Identifier  Item_Weight  Item_Fat_Content  Item_Visibility  Item_Type  \\\n",
       "0           FDA15         9.30                 0         0.016047          4   \n",
       "1           DRC01         5.92                 1         0.019278         14   \n",
       "2           FDN15        17.50                 0         0.016760         10   \n",
       "3           FDX07        19.20                 1         0.066132          6   \n",
       "4           NCD19         8.93                 0         0.066132          9   \n",
       "\n",
       "   Item_MRP Outlet_Identifier  Outlet_Establishment_Year  Outlet_Size  \\\n",
       "0  249.8092            OUT049                       1999            1   \n",
       "1   48.2692            OUT018                       2009            1   \n",
       "2  141.6180            OUT049                       1999            1   \n",
       "3  182.0950            OUT010                       1998            1   \n",
       "4   53.8614            OUT013                       1987            0   \n",
       "\n",
       "   Outlet_Location_Type  Outlet_Type  Item_Outlet_Sales  Years_Established  \n",
       "0                     0            1          3735.1380                 21  \n",
       "1                     2            2           443.4228                 11  \n",
       "2                     0            1          2097.2700                 21  \n",
       "3                     2            0           732.3800                 22  \n",
       "4                     2            1           994.7052                 33  "
      ]
     },
     "execution_count": 53,
     "metadata": {},
     "output_type": "execute_result"
    }
   ],
   "source": [
    "train.head()"
   ]
  },
  {
   "cell_type": "markdown",
   "id": "0abc1dfc",
   "metadata": {
    "id": "FI6Zj2CortBU",
    "papermill": {
     "duration": 0.035849,
     "end_time": "2023-01-06T16:36:12.466567",
     "exception": false,
     "start_time": "2023-01-06T16:36:12.430718",
     "status": "completed"
    },
    "tags": []
   },
   "source": [
    "**There are some columns that needs to be dropped as they don't seem helping our analysis.**"
   ]
  },
  {
   "cell_type": "code",
   "execution_count": 54,
   "id": "e4750da4",
   "metadata": {
    "execution": {
     "iopub.execute_input": "2023-01-06T16:36:12.546114Z",
     "iopub.status.busy": "2023-01-06T16:36:12.545706Z",
     "iopub.status.idle": "2023-01-06T16:36:12.554133Z",
     "shell.execute_reply": "2023-01-06T16:36:12.553283Z"
    },
    "id": "0MHQK9XnrqwQ",
    "papermill": {
     "duration": 0.053331,
     "end_time": "2023-01-06T16:36:12.556324",
     "exception": false,
     "start_time": "2023-01-06T16:36:12.502993",
     "status": "completed"
    },
    "tags": []
   },
   "outputs": [],
   "source": [
    "train = train.drop(['Item_Identifier','Outlet_Identifier','Outlet_Establishment_Year'],axis=1)\n",
    "test= test.drop(['Item_Identifier','Outlet_Identifier','Outlet_Establishment_Year'],axis=1)"
   ]
  },
  {
   "cell_type": "code",
   "execution_count": 55,
   "id": "6d170f8c",
   "metadata": {
    "execution": {
     "iopub.execute_input": "2023-01-06T16:36:12.631174Z",
     "iopub.status.busy": "2023-01-06T16:36:12.630464Z",
     "iopub.status.idle": "2023-01-06T16:36:12.636461Z",
     "shell.execute_reply": "2023-01-06T16:36:12.635668Z"
    },
    "id": "jAJVpNiprzMa",
    "outputId": "dc5f6ed9-b88a-4c96-d64c-d8335662cdad",
    "papermill": {
     "duration": 0.045686,
     "end_time": "2023-01-06T16:36:12.638429",
     "exception": false,
     "start_time": "2023-01-06T16:36:12.592743",
     "status": "completed"
    },
    "tags": []
   },
   "outputs": [
    {
     "data": {
      "text/plain": [
       "Index(['Item_Weight', 'Item_Fat_Content', 'Item_Visibility', 'Item_Type',\n",
       "       'Item_MRP', 'Outlet_Size', 'Outlet_Location_Type', 'Outlet_Type',\n",
       "       'Item_Outlet_Sales', 'Years_Established'],\n",
       "      dtype='object')"
      ]
     },
     "execution_count": 55,
     "metadata": {},
     "output_type": "execute_result"
    }
   ],
   "source": [
    "train.columns"
   ]
  },
  {
   "cell_type": "code",
   "execution_count": 56,
   "id": "d136d1c0",
   "metadata": {
    "execution": {
     "iopub.execute_input": "2023-01-06T16:36:12.713668Z",
     "iopub.status.busy": "2023-01-06T16:36:12.713242Z",
     "iopub.status.idle": "2023-01-06T16:36:12.719284Z",
     "shell.execute_reply": "2023-01-06T16:36:12.718431Z"
    },
    "id": "N6x86QgWr10O",
    "papermill": {
     "duration": 0.046803,
     "end_time": "2023-01-06T16:36:12.721425",
     "exception": false,
     "start_time": "2023-01-06T16:36:12.674622",
     "status": "completed"
    },
    "tags": []
   },
   "outputs": [],
   "source": [
    "X= train[['Item_Weight','Item_Fat_Content','Item_Visibility','Item_Type','Item_MRP','Outlet_Size','Outlet_Location_Type','Outlet_Type','Years_Established']]\n",
    "y= train['Item_Outlet_Sales']"
   ]
  },
  {
   "cell_type": "code",
   "execution_count": 57,
   "id": "f374a589",
   "metadata": {
    "execution": {
     "iopub.execute_input": "2023-01-06T16:36:12.797993Z",
     "iopub.status.busy": "2023-01-06T16:36:12.797568Z",
     "iopub.status.idle": "2023-01-06T16:36:12.805804Z",
     "shell.execute_reply": "2023-01-06T16:36:12.804872Z"
    },
    "id": "LYzgfCLcr4ty",
    "papermill": {
     "duration": 0.049931,
     "end_time": "2023-01-06T16:36:12.807792",
     "exception": false,
     "start_time": "2023-01-06T16:36:12.757861",
     "status": "completed"
    },
    "tags": []
   },
   "outputs": [],
   "source": [
    "X_train,X_test,y_train,y_test = train_test_split(X,y,test_size=0.2,random_state=22)"
   ]
  },
  {
   "cell_type": "markdown",
   "id": "3d2883a9",
   "metadata": {
    "id": "p9aX1P9fr_q-",
    "papermill": {
     "duration": 0.036372,
     "end_time": "2023-01-06T16:36:12.880772",
     "exception": false,
     "start_time": "2023-01-06T16:36:12.844400",
     "status": "completed"
    },
    "tags": []
   },
   "source": [
    "# **Step 6. Feature Scaling**\n",
    "\n",
    "---\n",
    "\n"
   ]
  },
  {
   "cell_type": "code",
   "execution_count": 58,
   "id": "6059e86a",
   "metadata": {
    "execution": {
     "iopub.execute_input": "2023-01-06T16:36:12.956114Z",
     "iopub.status.busy": "2023-01-06T16:36:12.955698Z",
     "iopub.status.idle": "2023-01-06T16:36:12.960135Z",
     "shell.execute_reply": "2023-01-06T16:36:12.959349Z"
    },
    "id": "Kckiuzp9sCRO",
    "papermill": {
     "duration": 0.044571,
     "end_time": "2023-01-06T16:36:12.962151",
     "exception": false,
     "start_time": "2023-01-06T16:36:12.917580",
     "status": "completed"
    },
    "tags": []
   },
   "outputs": [],
   "source": [
    "features= ['Item_Weight','Item_Fat_Content','Item_Visibility','Item_Type','Item_MRP','Outlet_Size','Outlet_Location_Type','Outlet_Type','Years_Established']"
   ]
  },
  {
   "cell_type": "markdown",
   "id": "f68dc4ef",
   "metadata": {
    "id": "M2Ovwts6sFk1",
    "papermill": {
     "duration": 0.037228,
     "end_time": "2023-01-06T16:36:13.036789",
     "exception": false,
     "start_time": "2023-01-06T16:36:12.999561",
     "status": "completed"
    },
    "tags": []
   },
   "source": [
    "# **Step 7. Building Model**"
   ]
  },
  {
   "cell_type": "markdown",
   "id": "bef3fbfb",
   "metadata": {
    "id": "_SYyKtGEsJ6r",
    "papermill": {
     "duration": 0.036457,
     "end_time": "2023-01-06T16:36:13.110374",
     "exception": false,
     "start_time": "2023-01-06T16:36:13.073917",
     "status": "completed"
    },
    "tags": []
   },
   "source": [
    "1) Linear regression"
   ]
  },
  {
   "cell_type": "code",
   "execution_count": 59,
   "id": "8a685b1d",
   "metadata": {
    "execution": {
     "iopub.execute_input": "2023-01-06T16:36:13.186067Z",
     "iopub.status.busy": "2023-01-06T16:36:13.185643Z",
     "iopub.status.idle": "2023-01-06T16:36:13.237290Z",
     "shell.execute_reply": "2023-01-06T16:36:13.235761Z"
    },
    "id": "MJATyWQhsSFx",
    "papermill": {
     "duration": 0.09451,
     "end_time": "2023-01-06T16:36:13.241719",
     "exception": false,
     "start_time": "2023-01-06T16:36:13.147209",
     "status": "completed"
    },
    "tags": []
   },
   "outputs": [
    {
     "name": "stderr",
     "output_type": "stream",
     "text": [
      "/opt/conda/lib/python3.7/site-packages/sklearn/linear_model/_base.py:145: FutureWarning: 'normalize' was deprecated in version 1.0 and will be removed in 1.2.\n",
      "If you wish to scale the data, use Pipeline with a StandardScaler in a preprocessing stage. To reproduce the previous behavior:\n",
      "\n",
      "from sklearn.pipeline import make_pipeline\n",
      "\n",
      "model = make_pipeline(StandardScaler(with_mean=False), LinearRegression())\n",
      "\n",
      "If you wish to pass a sample_weight parameter, you need to pass it as a fit parameter to each step of the pipeline as follows:\n",
      "\n",
      "kwargs = {s[0] + '__sample_weight': sample_weight for s in model.steps}\n",
      "model.fit(X, y, **kwargs)\n",
      "\n",
      "\n",
      "  FutureWarning,\n"
     ]
    }
   ],
   "source": [
    "LR = LinearRegression(normalize=True)\n",
    "LR.fit(X_train,y_train)\n",
    "y_pred = LR.predict(X_test)\n",
    "coef2 = pd.Series(LR.coef_,features).sort_values()"
   ]
  },
  {
   "cell_type": "code",
   "execution_count": 60,
   "id": "d0bcdcd8",
   "metadata": {
    "execution": {
     "iopub.execute_input": "2023-01-06T16:36:13.397192Z",
     "iopub.status.busy": "2023-01-06T16:36:13.396809Z",
     "iopub.status.idle": "2023-01-06T16:36:13.404994Z",
     "shell.execute_reply": "2023-01-06T16:36:13.403860Z"
    },
    "id": "Tj9Yw3LjsIWW",
    "outputId": "3a5ac161-aa77-48c2-c214-0f0ce03199eb",
    "papermill": {
     "duration": 0.04921,
     "end_time": "2023-01-06T16:36:13.407043",
     "exception": false,
     "start_time": "2023-01-06T16:36:13.357833",
     "status": "completed"
    },
    "tags": []
   },
   "outputs": [
    {
     "data": {
      "text/plain": [
       "Item_Visibility        -1709.417280\n",
       "Outlet_Location_Type    -434.605812\n",
       "Outlet_Size             -339.441273\n",
       "Years_Established         -1.425485\n",
       "Item_Weight                0.002459\n",
       "Item_Type                  1.696998\n",
       "Item_MRP                  15.616646\n",
       "Item_Fat_Content          35.759818\n",
       "Outlet_Type             1007.739359\n",
       "dtype: float64"
      ]
     },
     "execution_count": 60,
     "metadata": {},
     "output_type": "execute_result"
    }
   ],
   "source": [
    "coef2"
   ]
  },
  {
   "cell_type": "code",
   "execution_count": 61,
   "id": "94e4aa3a",
   "metadata": {
    "execution": {
     "iopub.execute_input": "2023-01-06T16:36:13.483052Z",
     "iopub.status.busy": "2023-01-06T16:36:13.481943Z",
     "iopub.status.idle": "2023-01-06T16:36:13.782929Z",
     "shell.execute_reply": "2023-01-06T16:36:13.781751Z"
    },
    "id": "6VTCvCqQsaIF",
    "outputId": "2cbfd05d-c27f-44a5-e0a4-9dbf3f988267",
    "papermill": {
     "duration": 0.341679,
     "end_time": "2023-01-06T16:36:13.785355",
     "exception": false,
     "start_time": "2023-01-06T16:36:13.443676",
     "status": "completed"
    },
    "tags": []
   },
   "outputs": [
    {
     "name": "stderr",
     "output_type": "stream",
     "text": [
      "/opt/conda/lib/python3.7/site-packages/seaborn/_decorators.py:43: FutureWarning: Pass the following variables as keyword args: x, y. From version 0.12, the only valid positional argument will be `data`, and passing other arguments without an explicit keyword will result in an error or misinterpretation.\n",
      "  FutureWarning\n"
     ]
    },
    {
     "data": {
      "text/plain": [
       "<AxesSubplot:>"
      ]
     },
     "execution_count": 61,
     "metadata": {},
     "output_type": "execute_result"
    },
    {
     "data": {
      "image/png": "[encoded data removed]",
      "text/plain": [
       "<Figure size 576x360 with 1 Axes>"
      ]
     },
     "metadata": {
      "needs_background": "light"
     },
     "output_type": "display_data"
    }
   ],
   "source": [
    "plt.figure(figsize=(8,5))\n",
    "sns.barplot(LR.coef_,features)"
   ]
  },
  {
   "cell_type": "markdown",
   "id": "cd07f710",
   "metadata": {
    "id": "dVwPueHisewS",
    "papermill": {
     "duration": 0.037045,
     "end_time": "2023-01-06T16:36:13.860279",
     "exception": false,
     "start_time": "2023-01-06T16:36:13.823234",
     "status": "completed"
    },
    "tags": []
   },
   "source": [
    "# **Step 8. Evaluation Metrics**\n",
    "\n",
    "---\n",
    "\n"
   ]
  },
  {
   "cell_type": "markdown",
   "id": "431f54ab",
   "metadata": {
    "id": "EQ7pjs1nsiZx",
    "papermill": {
     "duration": 0.037907,
     "end_time": "2023-01-06T16:36:13.938061",
     "exception": false,
     "start_time": "2023-01-06T16:36:13.900154",
     "status": "completed"
    },
    "tags": []
   },
   "source": [
    "\n",
    "\n",
    "> **R-Squared:**\n",
    "\n",
    "\n",
    "R-squared is a statistical measure that represents the proportion of the variance for a dependent variable that's explained by an independent variable or variables in a regression model.\n",
    "\n",
    "*   If the R2 of a model is 0.50, then approximately half of the observed variation can be explained by the model's inputs.\n",
    "\n",
    "---\n",
    "\n"
   ]
  },
  {
   "cell_type": "code",
   "execution_count": 62,
   "id": "93539199",
   "metadata": {
    "execution": {
     "iopub.execute_input": "2023-01-06T16:36:14.017276Z",
     "iopub.status.busy": "2023-01-06T16:36:14.016674Z",
     "iopub.status.idle": "2023-01-06T16:36:14.024005Z",
     "shell.execute_reply": "2023-01-06T16:36:14.022936Z"
    },
    "id": "M-0imXbWshUf",
    "outputId": "6f687260-2812-4a3e-c864-864ae0cf806f",
    "papermill": {
     "duration": 0.050457,
     "end_time": "2023-01-06T16:36:14.026402",
     "exception": false,
     "start_time": "2023-01-06T16:36:13.975945",
     "status": "completed"
    },
    "tags": []
   },
   "outputs": [
    {
     "data": {
      "text/plain": [
       "0.4946245671867817"
      ]
     },
     "execution_count": 62,
     "metadata": {},
     "output_type": "execute_result"
    }
   ],
   "source": [
    "from sklearn.metrics import r2_score\n",
    "R2 = r2_score(y_test,y_pred)\n",
    "R2"
   ]
  },
  {
   "cell_type": "markdown",
   "id": "8151a9e6",
   "metadata": {
    "id": "06dGVCBYs7-0",
    "papermill": {
     "duration": 0.056146,
     "end_time": "2023-01-06T16:36:14.121544",
     "exception": false,
     "start_time": "2023-01-06T16:36:14.065398",
     "status": "completed"
    },
    "tags": []
   },
   "source": [
    "# **b) MAE and MSE:**\n",
    "*   **MAE :** The mean absolute error (MAE) is a measure of errors between paired observations expressing the same phenomenon.\n",
    "*   **MSE :** The mean squared error tells you how close a regression line is to a set of points. It does this by taking the distances from the points to the regression line (these distances are the “errors”) and squaring them."
   ]
  },
  {
   "cell_type": "code",
   "execution_count": 63,
   "id": "2662cbab",
   "metadata": {
    "execution": {
     "iopub.execute_input": "2023-01-06T16:36:14.201844Z",
     "iopub.status.busy": "2023-01-06T16:36:14.201459Z",
     "iopub.status.idle": "2023-01-06T16:36:14.207685Z",
     "shell.execute_reply": "2023-01-06T16:36:14.206602Z"
    },
    "id": "9Ls0_b6EtIiG",
    "papermill": {
     "duration": 0.04956,
     "end_time": "2023-01-06T16:36:14.210069",
     "exception": false,
     "start_time": "2023-01-06T16:36:14.160509",
     "status": "completed"
    },
    "tags": []
   },
   "outputs": [],
   "source": [
    "MAE= metrics.mean_absolute_error(y_test,y_pred)\n",
    "MSE= metrics.mean_squared_error(y_test,y_pred)"
   ]
  },
  {
   "cell_type": "code",
   "execution_count": 64,
   "id": "ed64e62a",
   "metadata": {
    "execution": {
     "iopub.execute_input": "2023-01-06T16:36:14.288755Z",
     "iopub.status.busy": "2023-01-06T16:36:14.288234Z",
     "iopub.status.idle": "2023-01-06T16:36:14.294219Z",
     "shell.execute_reply": "2023-01-06T16:36:14.292975Z"
    },
    "id": "tbzIK5EctL_F",
    "outputId": "b8ca96dd-807b-4967-9cfa-6334a5220ed9",
    "papermill": {
     "duration": 0.048434,
     "end_time": "2023-01-06T16:36:14.296384",
     "exception": false,
     "start_time": "2023-01-06T16:36:14.247950",
     "status": "completed"
    },
    "tags": []
   },
   "outputs": [
    {
     "name": "stdout",
     "output_type": "stream",
     "text": [
      "mean absolute error: 933.3418289826435\n",
      "mean squared error: 1561773.775403381\n"
     ]
    }
   ],
   "source": [
    "print(\"mean absolute error:\",MAE)\n",
    "print(\"mean squared error:\",MSE)"
   ]
  },
  {
   "cell_type": "markdown",
   "id": "21993a13",
   "metadata": {
    "id": "QM6i7OWutOC9",
    "papermill": {
     "duration": 0.037531,
     "end_time": "2023-01-06T16:36:14.371760",
     "exception": false,
     "start_time": "2023-01-06T16:36:14.334229",
     "status": "completed"
    },
    "tags": []
   },
   "source": [
    "# **c) RMSE:**\n",
    "RMSE is a measure of how spread out these residuals are. In other words, it tells you how concentrated the data is around the line of best fit."
   ]
  },
  {
   "cell_type": "code",
   "execution_count": 65,
   "id": "397294e9",
   "metadata": {
    "execution": {
     "iopub.execute_input": "2023-01-06T16:36:14.449637Z",
     "iopub.status.busy": "2023-01-06T16:36:14.448865Z",
     "iopub.status.idle": "2023-01-06T16:36:14.454949Z",
     "shell.execute_reply": "2023-01-06T16:36:14.453672Z"
    },
    "id": "k3up6QkWtQm5",
    "outputId": "464c773b-b76d-4096-801c-102ba299d0f1",
    "papermill": {
     "duration": 0.047839,
     "end_time": "2023-01-06T16:36:14.457654",
     "exception": false,
     "start_time": "2023-01-06T16:36:14.409815",
     "status": "completed"
    },
    "tags": []
   },
   "outputs": [
    {
     "name": "stdout",
     "output_type": "stream",
     "text": [
      "Root Mean Squared Error: 1249.7094763997675\n"
     ]
    }
   ],
   "source": [
    "from math import sqrt\n",
    "rmse = sqrt(MSE)\n",
    "print(\"Root Mean Squared Error:\",rmse)"
   ]
  },
  {
   "cell_type": "markdown",
   "id": "9001ca83",
   "metadata": {
    "id": "q1REBrHHtbhy",
    "papermill": {
     "duration": 0.043272,
     "end_time": "2023-01-06T16:36:14.546653",
     "exception": false,
     "start_time": "2023-01-06T16:36:14.503381",
     "status": "completed"
    },
    "tags": []
   },
   "source": [
    "# **2) Random Forest Regressor**\n",
    "\n",
    "---\n",
    "\n"
   ]
  },
  {
   "cell_type": "code",
   "execution_count": 66,
   "id": "de154851",
   "metadata": {
    "execution": {
     "iopub.execute_input": "2023-01-06T16:36:14.624625Z",
     "iopub.status.busy": "2023-01-06T16:36:14.623263Z",
     "iopub.status.idle": "2023-01-06T16:36:15.523722Z",
     "shell.execute_reply": "2023-01-06T16:36:15.522511Z"
    },
    "id": "5DOetKg2tcy_",
    "papermill": {
     "duration": 0.942488,
     "end_time": "2023-01-06T16:36:15.526681",
     "exception": false,
     "start_time": "2023-01-06T16:36:14.584193",
     "status": "completed"
    },
    "tags": []
   },
   "outputs": [],
   "source": [
    "RF= RandomForestRegressor(n_estimators=200,max_depth=5, min_samples_leaf=100,n_jobs=4,random_state=22)\n",
    "\n",
    "# Fitting the model on our trained dataset.\n",
    "RF.fit(X_train,y_train)\n",
    "\n",
    "# Making Predictions\n",
    "y_pred = RF.predict(X_test)"
   ]
  },
  {
   "cell_type": "code",
   "execution_count": 67,
   "id": "f1360b02",
   "metadata": {
    "execution": {
     "iopub.execute_input": "2023-01-06T16:36:15.605988Z",
     "iopub.status.busy": "2023-01-06T16:36:15.605192Z",
     "iopub.status.idle": "2023-01-06T16:36:15.717005Z",
     "shell.execute_reply": "2023-01-06T16:36:15.715734Z"
    },
    "id": "Fx7VfbFhtigF",
    "outputId": "14975cf4-ce75-46a4-bb3c-2f3c026a8953",
    "papermill": {
     "duration": 0.153468,
     "end_time": "2023-01-06T16:36:15.719481",
     "exception": false,
     "start_time": "2023-01-06T16:36:15.566013",
     "status": "completed"
    },
    "tags": []
   },
   "outputs": [
    {
     "data": {
      "text/plain": [
       "Item_MRP                0.543879\n",
       "Outlet_Type             0.397488\n",
       "Years_Established       0.057754\n",
       "Item_Weight             0.000267\n",
       "Outlet_Location_Type    0.000265\n",
       "Item_Visibility         0.000248\n",
       "Item_Type               0.000078\n",
       "Outlet_Size             0.000021\n",
       "Item_Fat_Content        0.000000\n",
       "dtype: float64"
      ]
     },
     "execution_count": 67,
     "metadata": {},
     "output_type": "execute_result"
    }
   ],
   "source": [
    "coef3 = pd.Series(RF.feature_importances_, features).sort_values(ascending=False)\n",
    "coef3"
   ]
  },
  {
   "cell_type": "code",
   "execution_count": 68,
   "id": "b0895bb4",
   "metadata": {
    "execution": {
     "iopub.execute_input": "2023-01-06T16:36:15.798470Z",
     "iopub.status.busy": "2023-01-06T16:36:15.798010Z",
     "iopub.status.idle": "2023-01-06T16:36:16.202954Z",
     "shell.execute_reply": "2023-01-06T16:36:16.201712Z"
    },
    "id": "VsWeNWBotlL3",
    "outputId": "276b6e85-ccd5-49f8-c867-8bd1a7c47549",
    "papermill": {
     "duration": 0.447354,
     "end_time": "2023-01-06T16:36:16.205254",
     "exception": false,
     "start_time": "2023-01-06T16:36:15.757900",
     "status": "completed"
    },
    "tags": []
   },
   "outputs": [
    {
     "name": "stderr",
     "output_type": "stream",
     "text": [
      "/opt/conda/lib/python3.7/site-packages/seaborn/_decorators.py:43: FutureWarning: Pass the following variables as keyword args: x, y. From version 0.12, the only valid positional argument will be `data`, and passing other arguments without an explicit keyword will result in an error or misinterpretation.\n",
      "  FutureWarning\n"
     ]
    },
    {
     "data": {
      "text/plain": [
       "<AxesSubplot:>"
      ]
     },
     "execution_count": 68,
     "metadata": {},
     "output_type": "execute_result"
    },
    {
     "data": {
      "image/png": "[encoded data removed]",
      "text/plain": [
       "<Figure size 576x360 with 1 Axes>"
      ]
     },
     "metadata": {
      "needs_background": "light"
     },
     "output_type": "display_data"
    }
   ],
   "source": [
    "plt.figure(figsize=(8,5))\n",
    "sns.barplot(RF.feature_importances_,features)"
   ]
  },
  {
   "cell_type": "code",
   "execution_count": 69,
   "id": "a15e23ce",
   "metadata": {
    "execution": {
     "iopub.execute_input": "2023-01-06T16:36:16.284626Z",
     "iopub.status.busy": "2023-01-06T16:36:16.284197Z",
     "iopub.status.idle": "2023-01-06T16:36:16.290274Z",
     "shell.execute_reply": "2023-01-06T16:36:16.289126Z"
    },
    "id": "SuDGYhZOtnaB",
    "papermill": {
     "duration": 0.048464,
     "end_time": "2023-01-06T16:36:16.292501",
     "exception": false,
     "start_time": "2023-01-06T16:36:16.244037",
     "status": "completed"
    },
    "tags": []
   },
   "outputs": [],
   "source": [
    "def cross_val(model_name,model,X,y,cv):\n",
    "    \n",
    "    scores = cross_val_score(model, X, y, cv=cv)\n",
    "    print(f'{model_name} Scores:')\n",
    "    for i in scores:\n",
    "        print(round(i,2))\n",
    "    print(f'Average {model_name} score: {round(scores.mean(),2)}')"
   ]
  },
  {
   "cell_type": "code",
   "execution_count": 70,
   "id": "ef485c1c",
   "metadata": {
    "execution": {
     "iopub.execute_input": "2023-01-06T16:36:16.371582Z",
     "iopub.status.busy": "2023-01-06T16:36:16.370643Z",
     "iopub.status.idle": "2023-01-06T16:36:16.440746Z",
     "shell.execute_reply": "2023-01-06T16:36:16.438933Z"
    },
    "id": "YBZyzyYbtqs6",
    "outputId": "259a9849-5524-485b-98dc-351950aac1d2",
    "papermill": {
     "duration": 0.114254,
     "end_time": "2023-01-06T16:36:16.445195",
     "exception": false,
     "start_time": "2023-01-06T16:36:16.330941",
     "status": "completed"
    },
    "tags": []
   },
   "outputs": [
    {
     "name": "stdout",
     "output_type": "stream",
     "text": [
      "LinearRegression(normalize=True) Scores:\n",
      "0.53\n",
      "0.5\n",
      "0.49\n",
      "0.51\n",
      "0.51\n",
      "Average LinearRegression(normalize=True) score: 0.51\n"
     ]
    }
   ],
   "source": [
    "cross_val(LR,LinearRegression(),X,y,5)"
   ]
  },
  {
   "cell_type": "code",
   "execution_count": 71,
   "id": "bc708b38",
   "metadata": {
    "execution": {
     "iopub.execute_input": "2023-01-06T16:36:16.611319Z",
     "iopub.status.busy": "2023-01-06T16:36:16.610912Z",
     "iopub.status.idle": "2023-01-06T16:36:30.429695Z",
     "shell.execute_reply": "2023-01-06T16:36:30.428331Z"
    },
    "id": "_ApTetaAtsSW",
    "outputId": "8850ac4e-0917-44ab-d644-6a78fed47f7f",
    "papermill": {
     "duration": 13.862008,
     "end_time": "2023-01-06T16:36:30.432925",
     "exception": false,
     "start_time": "2023-01-06T16:36:16.570917",
     "status": "completed"
    },
    "tags": []
   },
   "outputs": [
    {
     "name": "stdout",
     "output_type": "stream",
     "text": [
      "RandomForestRegressor(max_depth=5, min_samples_leaf=100, n_estimators=200,\n",
      "                      n_jobs=4, random_state=22) Scores:\n",
      "0.57\n",
      "0.52\n",
      "0.52\n",
      "0.55\n",
      "0.56\n",
      "Average RandomForestRegressor(max_depth=5, min_samples_leaf=100, n_estimators=200,\n",
      "                      n_jobs=4, random_state=22) score: 0.55\n"
     ]
    }
   ],
   "source": [
    "cross_val(RF,RandomForestRegressor(),X,y,5)"
   ]
  },
  {
   "cell_type": "markdown",
   "id": "318634d0",
   "metadata": {
    "id": "Y-w9yJCRt1DZ",
    "papermill": {
     "duration": 0.038423,
     "end_time": "2023-01-06T16:36:30.510508",
     "exception": false,
     "start_time": "2023-01-06T16:36:30.472085",
     "status": "completed"
    },
    "tags": []
   },
   "source": [
    "**Random forest Model clearly did best!** :) "
   ]
  },
  {
   "cell_type": "markdown",
   "id": "0758af34",
   "metadata": {
    "id": "KAHjOBMzuGTW",
    "papermill": {
     "duration": 0.039059,
     "end_time": "2023-01-06T16:36:30.587990",
     "exception": false,
     "start_time": "2023-01-06T16:36:30.548931",
     "status": "completed"
    },
    "tags": []
   },
   "source": [
    "# **Conclusions**\n",
    "\n",
    "\n",
    "*   Item_MRP clearly maximises the Outlet sales.\n",
    "*   Outlet Type being SuperMarket or Grocery Store also depicts the Outlet Sales.\n",
    "*   Years Established will also tend to have loyal customers and that's how the sales margin can be acheived.\n",
    "\n",
    "---\n",
    "\n",
    "\n",
    "---\n",
    "\n",
    "\n",
    "\n",
    "---\n",
    "\n",
    "\n",
    "\n",
    "---\n",
    "\n",
    "\n",
    "\n"
   ]
  }
 ],
 "metadata": {
  "kernelspec": {
   "display_name": "Python 3",
   "language": "python",
   "name": "python3"
  },
  "language_info": {
   "codemirror_mode": {
    "name": "ipython",
    "version": 3
   },
   "file_extension": ".py",
   "mimetype": "text/x-python",
   "name": "python",
   "nbconvert_exporter": "python",
   "pygments_lexer": "ipython3",
   "version": "3.7.12"
  },
  "papermill": {
   "default_parameters": {},
   "duration": 43.149219,
   "end_time": "2023-01-06T16:36:31.449446",
   "environment_variables": {},
   "exception": null,
   "input_path": "__notebook__.ipynb",
   "output_path": "__notebook__.ipynb",
   "parameters": {},
   "start_time": "2023-01-06T16:35:48.300227",
   "version": "2.3.4"
  }
 },
 "nbformat": 4,
 "nbformat_minor": 5
}
